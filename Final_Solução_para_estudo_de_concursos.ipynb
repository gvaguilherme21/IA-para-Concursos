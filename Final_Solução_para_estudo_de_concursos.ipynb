{
  "nbformat": 4,
  "nbformat_minor": 0,
  "metadata": {
    "colab": {
      "provenance": [],
      "mount_file_id": "1l1fDJJhtisK7XR3JUXiExQbW-cB-ILDP",
      "authorship_tag": "ABX9TyMiESt2TpnhyJky5ljb2wYK",
      "include_colab_link": true
    },
    "kernelspec": {
      "name": "python3",
      "display_name": "Python 3"
    },
    "language_info": {
      "name": "python"
    }
  },
  "cells": [
    {
      "cell_type": "markdown",
      "metadata": {
        "id": "view-in-github",
        "colab_type": "text"
      },
      "source": [
        "<a href=\"https://colab.research.google.com/github/gvaguilherme21/IA-para-Concursos/blob/main/Final_Solu%C3%A7%C3%A3o_para_estudo_de_concursos.ipynb\" target=\"_parent\"><img src=\"https://colab.research.google.com/assets/colab-badge.svg\" alt=\"Open In Colab\"/></a>"
      ]
    },
    {
      "cell_type": "code",
      "source": [
        "!pip install tabula"
      ],
      "metadata": {
        "colab": {
          "base_uri": "https://localhost:8080/"
        },
        "id": "cABFUnFGNPjH",
        "outputId": "18be8371-bd06-4cc7-d44f-15c29e468b2e"
      },
      "execution_count": null,
      "outputs": [
        {
          "output_type": "stream",
          "name": "stdout",
          "text": [
            "Requirement already satisfied: tabula in /usr/local/lib/python3.10/dist-packages (1.0.5)\n",
            "Requirement already satisfied: setuptools in /usr/local/lib/python3.10/dist-packages (from tabula) (67.7.2)\n",
            "Requirement already satisfied: numpy in /usr/local/lib/python3.10/dist-packages (from tabula) (1.25.2)\n"
          ]
        }
      ]
    },
    {
      "cell_type": "code",
      "source": [
        "import tabula"
      ],
      "metadata": {
        "id": "8K9oNYzVQzss"
      },
      "execution_count": null,
      "outputs": []
    },
    {
      "cell_type": "code",
      "source": [
        "ls -l"
      ],
      "metadata": {
        "colab": {
          "base_uri": "https://localhost:8080/"
        },
        "id": "sqJKq8ZcTF4i",
        "outputId": "3bdede23-9585-4278-910f-8b68016e82b7"
      },
      "execution_count": null,
      "outputs": [
        {
          "output_type": "stream",
          "name": "stdout",
          "text": [
            "total 20\n",
            "drwx------ 5 root root 4096 May  9 22:14 \u001b[0m\u001b[01;34mdrive\u001b[0m/\n",
            "drwxr-xr-x 2 root root 4096 May  9 20:46 \u001b[01;34mMeuProjeto\u001b[0m/\n",
            "-rw-r--r-- 1 root root   26 May  9 22:15 my_yaml_file.yaml\n",
            "drwxr-xr-x 1 root root 4096 May  8 21:21 \u001b[01;34msample_data\u001b[0m/\n",
            "drwxr-xr-x 5 root root 4096 May  9 20:47 \u001b[01;34mtabula-java\u001b[0m/\n"
          ]
        }
      ]
    },
    {
      "cell_type": "code",
      "source": [
        "import os\n",
        "\n",
        "def ler_pdf(nome_arquivo):\n",
        "    try:\n",
        "        with open(nome_arquivo, 'rb') as f:\n",
        "            # Processar o arquivo PDF aqui\n",
        "            pass\n",
        "    except FileNotFoundError:\n",
        "        print(f\"Erro: O arquivo '{nome_arquivo}' não foi encontrado.\")\n",
        "        print(f\"Diretório atual: {os.getcwd()}\")\n",
        "\n",
        "ler_pdf(\"edital-cpnu-bloco-7-28-04-17-retificado.pdf\")"
      ],
      "metadata": {
        "colab": {
          "base_uri": "https://localhost:8080/"
        },
        "id": "4zlAae1tUCJD",
        "outputId": "549a11cf-3cc0-4f23-8102-4ac8ca2c6882"
      },
      "execution_count": null,
      "outputs": [
        {
          "output_type": "stream",
          "name": "stdout",
          "text": [
            "Erro: O arquivo 'edital-cpnu-bloco-7-28-04-17-retificado.pdf' não foi encontrado.\n",
            "Diretório atual: /content\n"
          ]
        }
      ]
    },
    {
      "cell_type": "code",
      "source": [
        "new_var = 1\n",
        "new_var"
      ],
      "metadata": {
        "colab": {
          "base_uri": "https://localhost:8080/"
        },
        "id": "YdXPSo-gS9g0",
        "outputId": "8863f0f8-84e8-419e-a0f5-8dbc5bb11508"
      },
      "execution_count": null,
      "outputs": [
        {
          "output_type": "execute_result",
          "data": {
            "text/plain": [
              "1"
            ]
          },
          "metadata": {},
          "execution_count": 5
        }
      ]
    },
    {
      "cell_type": "code",
      "source": [
        "# Código anterior\n",
        "import os\n",
        "\n",
        "def ler_pdf(nome_arquivo):\n",
        "    try:\n",
        "        with open(nome_arquivo, 'rb') as f:\n",
        "            # Processar o arquivo PDF aqui\n",
        "            pass\n",
        "    except FileNotFoundError:\n",
        "        print(f\"Erro: O arquivo '{nome_arquivo}' não foi encontrado.\")\n",
        "        print(f\"Diretório atual: {os.getcwd()}\")\n",
        "\n",
        "# Código corrigido\n",
        "new_var = 1\n",
        "\n",
        "ler_pdf(\"edital-cpnu-bloco-7-28-04-17-retificado.pdf\")"
      ],
      "metadata": {
        "colab": {
          "base_uri": "https://localhost:8080/"
        },
        "id": "-ucSKrQOU7XR",
        "outputId": "42e3947b-00c9-43dc-e8d3-4a5e24e17e62"
      },
      "execution_count": null,
      "outputs": [
        {
          "output_type": "stream",
          "name": "stdout",
          "text": [
            "Erro: O arquivo 'edital-cpnu-bloco-7-28-04-17-retificado.pdf' não foi encontrado.\n",
            "Diretório atual: /content\n"
          ]
        }
      ]
    },
    {
      "cell_type": "code",
      "source": [
        "ler_pdf(\"edital-cpnu-bloco-7-28-04-17-retificado.pdf\")"
      ],
      "metadata": {
        "colab": {
          "base_uri": "https://localhost:8080/"
        },
        "id": "Iz2OYBU4VLRS",
        "outputId": "2984f67b-665c-4ecc-a41d-d5698ae720ff"
      },
      "execution_count": null,
      "outputs": [
        {
          "output_type": "stream",
          "name": "stdout",
          "text": [
            "Erro: O arquivo 'edital-cpnu-bloco-7-28-04-17-retificado.pdf' não foi encontrado.\n",
            "Diretório atual: /content\n"
          ]
        }
      ]
    },
    {
      "cell_type": "code",
      "source": [
        "from google.colab import drive\n",
        "drive.mount('/content/drive')"
      ],
      "metadata": {
        "colab": {
          "base_uri": "https://localhost:8080/"
        },
        "id": "1WB4ZTmZWYHE",
        "outputId": "f0474e94-3bd5-4c04-869a-cb72714ea878"
      },
      "execution_count": null,
      "outputs": [
        {
          "output_type": "stream",
          "name": "stdout",
          "text": [
            "Drive already mounted at /content/drive; to attempt to forcibly remount, call drive.mount(\"/content/drive\", force_remount=True).\n"
          ]
        }
      ]
    },
    {
      "cell_type": "code",
      "source": [
        "!wget https://raw.githubusercontent.com/langchain-ai/langchain/master/docs/getting_started/data/edital-cpnu-bloco-7-2024-04-17-retificado.pdf"
      ],
      "metadata": {
        "colab": {
          "base_uri": "https://localhost:8080/"
        },
        "id": "5weXYjR_Wkba",
        "outputId": "9bbb947c-bbfb-46cb-d22c-b653e76b15e4"
      },
      "execution_count": null,
      "outputs": [
        {
          "output_type": "stream",
          "name": "stdout",
          "text": [
            "--2024-05-09 23:36:37--  https://raw.githubusercontent.com/langchain-ai/langchain/master/docs/getting_started/data/edital-cpnu-bloco-7-2024-04-17-retificado.pdf\n",
            "Resolving raw.githubusercontent.com (raw.githubusercontent.com)... 185.199.111.133, 185.199.108.133, 185.199.109.133, ...\n",
            "Connecting to raw.githubusercontent.com (raw.githubusercontent.com)|185.199.111.133|:443... connected.\n",
            "HTTP request sent, awaiting response... 404 Not Found\n",
            "2024-05-09 23:36:38 ERROR 404: Not Found.\n",
            "\n"
          ]
        }
      ]
    },
    {
      "cell_type": "code",
      "source": [
        "import os\n",
        "\n",
        "def ler_pdf(nome_arquivo):\n",
        "    try:\n",
        "        with open(nome_arquivo, 'rb') as f:\n",
        "            # Processar o arquivo PDF aqui\n",
        "            pass\n",
        "    except FileNotFoundError:\n",
        "        print(f\"Erro: O arquivo '{nome_arquivo}' não foi encontrado.\")\n",
        "        print(f\"Diretório atual: {os.getcwd()}\")\n",
        "\n",
        "# Caminho correto do arquivo no seu Drive\n",
        "caminho_arquivo = \"/content/drive/MyDrive/Google AI Studio/edital-cpnu-bloco-7-2024-04-17-retificado.pdf\"\n",
        "\n",
        "ler_pdf(caminho_arquivo)"
      ],
      "metadata": {
        "id": "ArFwLH4wWsMp",
        "colab": {
          "base_uri": "https://localhost:8080/"
        },
        "outputId": "74258792-8219-4091-b7de-fb0b7f1f78a3"
      },
      "execution_count": null,
      "outputs": [
        {
          "output_type": "stream",
          "name": "stdout",
          "text": [
            "Erro: O arquivo '/content/drive/MyDrive/Google AI Studio/edital-cpnu-bloco-7-2024-04-17-retificado.pdf' não foi encontrado.\n",
            "Diretório atual: /content\n"
          ]
        }
      ]
    },
    {
      "cell_type": "code",
      "source": [
        "from google.colab import drive\n",
        "\n",
        "# Mount Google Drive\n",
        "drive.mount('/content/drive')\n",
        "# Specify the correct file path within your Google Drive\n",
        "file_path = '/content/drive/MyDrive/Google AI Studio/edital-cpnu-bloco-7-2024-04-17-retificado.pdf\"'\n",
        "\n",
        "try:\n",
        "    with open(file_path, 'rb') as f:\n",
        "        # Process the PDF file here (e.g., using PyPDF2)\n",
        "        print(\"File opened successfully!\")\n",
        "except FileNotFoundError:\n",
        "    print(f\"Error: File not found at: {file_path}\")"
      ],
      "metadata": {
        "id": "CD_YMOBZaFjd",
        "colab": {
          "base_uri": "https://localhost:8080/"
        },
        "outputId": "99f7d399-ce81-4b55-ba49-05f53dbdb728"
      },
      "execution_count": null,
      "outputs": [
        {
          "output_type": "stream",
          "name": "stdout",
          "text": [
            "Drive already mounted at /content/drive; to attempt to forcibly remount, call drive.mount(\"/content/drive\", force_remount=True).\n",
            "Error: File not found at: /content/drive/MyDrive/Google AI Studio/edital-cpnu-bloco-7-2024-04-17-retificado.pdf\"\n"
          ]
        }
      ]
    },
    {
      "cell_type": "code",
      "source": [
        "drive.flush_and_unmount()\n",
        "drive.mount('/content/drive')"
      ],
      "metadata": {
        "colab": {
          "base_uri": "https://localhost:8080/"
        },
        "id": "JSTWMEwBbPWJ",
        "outputId": "da85dc3e-93f1-4186-bab8-35eb88c2b23f"
      },
      "execution_count": null,
      "outputs": [
        {
          "output_type": "stream",
          "name": "stdout",
          "text": [
            "Mounted at /content/drive\n"
          ]
        }
      ]
    },
    {
      "cell_type": "code",
      "source": [
        "# Ensure Google Drive is mounted\n",
        "try:\n",
        "    from google.colab import drive\n",
        "    drive.mount('/content/drive')\n",
        "except:\n",
        "    print(\"Failed to mount Google Drive. Please check your authentication and permissions.\")\n",
        "\n",
        "# Specify the correct file path within your Google Drive\n",
        "file_path = '/content/drive/MyDrive/Google AI Studio/edital-cpnu-bloco-7-2024-04-17-retificado.pdf'\n",
        "\n",
        "# Attempt to open the PDF file\n",
        "try:\n",
        "    with open(file_path, \"rb\") as f:\n",
        "        # Process the PDF file here (e.g., using tabula)\n",
        "        print(\"File opened successfully!\")\n",
        "except FileNotFoundError:\n",
        "    print(f\"Error: File not found at: {file_path}\")"
      ],
      "metadata": {
        "colab": {
          "base_uri": "https://localhost:8080/"
        },
        "id": "jcpybZtJTN_m",
        "outputId": "8dad1dfc-4bef-4a3b-f48e-013143658123"
      },
      "execution_count": null,
      "outputs": [
        {
          "output_type": "stream",
          "name": "stdout",
          "text": [
            "Drive already mounted at /content/drive; to attempt to forcibly remount, call drive.mount(\"/content/drive\", force_remount=True).\n",
            "Error: File not found at: /content/drive/MyDrive/Google AI Studio/edital-cpnu-bloco-7-2024-04-17-retificado.pdf\n"
          ]
        }
      ]
    },
    {
      "cell_type": "code",
      "source": [
        "# Ensure Google Drive is mounted\n",
        "try:\n",
        "    from google.colab import drive\n",
        "    drive.mount('/content/drive')\n",
        "except:\n",
        "    print(\"Failed to mount Google Drive. Please check your authentication and permissions.\")\n",
        "\n",
        "# Specify the correct file path within your Google Drive\n",
        "file_path = '/content/drive/MyDrive/Google AI Studio/edital-cpnu-bloco-7-2024-04-17-retificado.pdf'\n",
        "\n",
        "# Attempt to open the PDF file\n",
        "try:\n",
        "    with open(file_path, \"rb\") as f:\n",
        "        # Process the PDF file here (e.g., using tabula)\n",
        "        edital_df = tabula.read_pdf(f)\n",
        "        print(\"File opened successfully!\")\n",
        "except FileNotFoundError:\n",
        "    print(f\"Error: File not found at: {file_path}\")\n",
        "\n",
        "# ... the rest of your code remains the same"
      ],
      "metadata": {
        "colab": {
          "base_uri": "https://localhost:8080/"
        },
        "id": "ctlMmJVhOSdt",
        "outputId": "cab935a0-6aef-485a-9747-3b88c52c9fbf"
      },
      "execution_count": null,
      "outputs": [
        {
          "output_type": "stream",
          "name": "stdout",
          "text": [
            "Drive already mounted at /content/drive; to attempt to forcibly remount, call drive.mount(\"/content/drive\", force_remount=True).\n",
            "Error: File not found at: /content/drive/MyDrive/Google AI Studio/edital-cpnu-bloco-7-2024-04-17-retificado.pdf\n"
          ]
        }
      ]
    },
    {
      "cell_type": "code",
      "source": [
        "!pip install tabula"
      ],
      "metadata": {
        "colab": {
          "base_uri": "https://localhost:8080/"
        },
        "id": "IcG_OSyigWbR",
        "outputId": "ed0b1d30-9d18-4261-c319-bf2e28f04324"
      },
      "execution_count": null,
      "outputs": [
        {
          "output_type": "stream",
          "name": "stdout",
          "text": [
            "Requirement already satisfied: tabula in /usr/local/lib/python3.10/dist-packages (1.0.5)\n",
            "Requirement already satisfied: setuptools in /usr/local/lib/python3.10/dist-packages (from tabula) (67.7.2)\n",
            "Requirement already satisfied: numpy in /usr/local/lib/python3.10/dist-packages (from tabula) (1.25.2)\n"
          ]
        }
      ]
    },
    {
      "cell_type": "code",
      "source": [
        "import tabula"
      ],
      "metadata": {
        "id": "TicdV0kZgdLw"
      },
      "execution_count": null,
      "outputs": []
    },
    {
      "cell_type": "code",
      "source": [
        "# prompt:\n",
        "\n",
        "!wc -l /content/drive/MyDrive/Google AI Studio/edital-cpnu-bloco-7-2024-04-17-retificado.pdf\n"
      ],
      "metadata": {
        "id": "eadSQJKhghJg",
        "colab": {
          "base_uri": "https://localhost:8080/"
        },
        "outputId": "318a75a9-f885-4b45-e547-b7f8fdfa1866"
      },
      "execution_count": null,
      "outputs": [
        {
          "output_type": "stream",
          "name": "stdout",
          "text": [
            "wc: /content/drive/MyDrive/Google: No such file or directory\n",
            "wc: AI: No such file or directory\n",
            "wc: Studio/edital-cpnu-bloco-7-2024-04-17-retificado.pdf: No such file or directory\n",
            "0 total\n"
          ]
        }
      ]
    },
    {
      "cell_type": "code",
      "source": [
        "# prompt:\n",
        "\n",
        "!cat /content/drive/MyDrive/Google AI Studio/edital-cpnu-bloco-7-2024-04-17-retificado.pdf\n"
      ],
      "metadata": {
        "id": "ow7pryxI4OjH",
        "outputId": "74f7855c-6298-43d7-877b-f1e14981607c",
        "colab": {
          "base_uri": "https://localhost:8080/"
        }
      },
      "execution_count": null,
      "outputs": [
        {
          "output_type": "stream",
          "name": "stdout",
          "text": [
            "cat: /content/drive/MyDrive/Google: No such file or directory\n",
            "cat: AI: No such file or directory\n",
            "cat: Studio/edital-cpnu-bloco-7-2024-04-17-retificado.pdf: No such file or directory\n"
          ]
        }
      ]
    },
    {
      "cell_type": "code",
      "source": [
        "# prompt:\n",
        "\n",
        "# Ensure Google Drive is mounted\n",
        "try:\n",
        "    drive.mount('/content/drive')\n",
        "except:\n",
        "    print(\"Failed to mount Google Drive. Please check your authentication and permissions.\")\n",
        "\n",
        "# Specify the correct file path within your Google Drive\n",
        "file_path = '/content/drive/MyDrive/Google AI Studio/edital-cpnu-bloco-7-2024-04-17-retificado.pdf'\n",
        "\n",
        "# Attempt to open the PDF file\n",
        "try:\n",
        "    with open(file_path, \"rb\") as f:\n",
        "        # Process the PDF file here (e.g., using tabula)\n",
        "        edital_df = tabula.read_pdf(f)\n",
        "        print(\"File opened successfully!\")\n",
        "except FileNotFoundError:\n",
        "    print(f\"Error: File not found at: {file_path}\")\n",
        "\n",
        "# ... the rest of your code remains the same\n"
      ],
      "metadata": {
        "id": "h9KaS25-r-lM",
        "colab": {
          "base_uri": "https://localhost:8080/"
        },
        "outputId": "20cf7aec-690b-4493-b2e5-03c5e937ef7a"
      },
      "execution_count": null,
      "outputs": [
        {
          "output_type": "stream",
          "name": "stdout",
          "text": [
            "Drive already mounted at /content/drive; to attempt to forcibly remount, call drive.mount(\"/content/drive\", force_remount=True).\n",
            "Error: File not found at: /content/drive/MyDrive/Google AI Studio/edital-cpnu-bloco-7-2024-04-17-retificado.pdf\n"
          ]
        }
      ]
    },
    {
      "cell_type": "code",
      "source": [
        "!ls -la MeuProjeto"
      ],
      "metadata": {
        "colab": {
          "base_uri": "https://localhost:8080/"
        },
        "id": "PIas-HI3O1TW",
        "outputId": "c9abf5c3-8c35-4642-c2cc-bb8d7f251cce"
      },
      "execution_count": null,
      "outputs": [
        {
          "output_type": "stream",
          "name": "stdout",
          "text": [
            "total 8\n",
            "drwxr-xr-x 2 root root 4096 May  9 20:46 .\n",
            "drwxr-xr-x 1 root root 4096 May  9 23:36 ..\n"
          ]
        }
      ]
    },
    {
      "cell_type": "code",
      "source": [
        "!mkdir MeuProjeto"
      ],
      "metadata": {
        "id": "6Jq8J81UO_AO",
        "colab": {
          "base_uri": "https://localhost:8080/"
        },
        "outputId": "0a9624a4-8b65-4250-8927-ac4614f7afd0"
      },
      "execution_count": null,
      "outputs": [
        {
          "output_type": "stream",
          "name": "stdout",
          "text": [
            "mkdir: cannot create directory ‘MeuProjeto’: File exists\n"
          ]
        }
      ]
    },
    {
      "cell_type": "code",
      "source": [
        "!mv \"TXT para extrair paginas do edital.txt\" \"MeuProjeto/\""
      ],
      "metadata": {
        "colab": {
          "base_uri": "https://localhost:8080/"
        },
        "id": "yUnVP7Q1PmGV",
        "outputId": "9ce088a5-0ffc-4588-e858-1301b9e219ed"
      },
      "execution_count": null,
      "outputs": [
        {
          "output_type": "stream",
          "name": "stdout",
          "text": [
            "mv: cannot stat 'TXT para extrair paginas do edital.txt': No such file or directory\n"
          ]
        }
      ]
    },
    {
      "cell_type": "code",
      "source": [
        "pip install pyyaml"
      ],
      "metadata": {
        "colab": {
          "base_uri": "https://localhost:8080/"
        },
        "id": "-9CpwgPyanPN",
        "outputId": "381ddb8f-823e-4acf-c1c5-ba517cb3df18"
      },
      "execution_count": null,
      "outputs": [
        {
          "output_type": "stream",
          "name": "stdout",
          "text": [
            "Requirement already satisfied: pyyaml in /usr/local/lib/python3.10/dist-packages (6.0.1)\n"
          ]
        }
      ]
    },
    {
      "cell_type": "code",
      "source": [
        "import json"
      ],
      "metadata": {
        "id": "G0gzSuDkpmPC"
      },
      "execution_count": null,
      "outputs": []
    },
    {
      "cell_type": "code",
      "source": [
        "import yaml"
      ],
      "metadata": {
        "id": "zW_ptR5ypHA9"
      },
      "execution_count": null,
      "outputs": []
    },
    {
      "cell_type": "code",
      "source": [
        "# Mount Google Drive\n",
        "drive.mount('/content/drive')\n",
        "\n",
        "# Specify the file path within your Google Drive\n",
        "file_path = '/content/drive/MyDrive/path/to/your/file.txt'\n",
        "\n",
        "try:\n",
        "    # Read the contents of the file\n",
        "    with open(file_path, 'r') as f:\n",
        "        contents = f.read()\n",
        "\n",
        "    # Search for the string \"your_search_string\"\n",
        "    if contents.find('your_search_string') != -1:\n",
        "        print('String found in file.')\n",
        "    else:\n",
        "        print('String not found in file.')\n",
        "\n",
        "except FileNotFoundError:\n",
        "    print(f\"Erro: Arquivo não encontrado em {file_path}\")\n",
        "    print(\"Verifique o caminho do arquivo e as permissões de acesso.\")"
      ],
      "metadata": {
        "colab": {
          "base_uri": "https://localhost:8080/"
        },
        "id": "RBw0uPE4qIeF",
        "outputId": "9cf779e1-1dd4-4024-ddd2-402454ba21cf"
      },
      "execution_count": null,
      "outputs": [
        {
          "output_type": "stream",
          "name": "stdout",
          "text": [
            "Drive already mounted at /content/drive; to attempt to forcibly remount, call drive.mount(\"/content/drive\", force_remount=True).\n",
            "Erro: Arquivo não encontrado em /content/drive/MyDrive/path/to/your/file.txt\n",
            "Verifique o caminho do arquivo e as permissões de acesso.\n"
          ]
        }
      ]
    },
    {
      "cell_type": "code",
      "source": [
        "import json\n",
        "\n",
        "# Defina uma string JSON válida\n",
        "json_data = '{\"nome\": \"Gemini\", \"linguagem\": \"Python\"}'\n",
        "\n",
        "try:\n",
        "    # Carregue os dados JSON\n",
        "    data = json.loads(json_data)\n",
        "    print(\"JSON válido\")\n",
        "\n",
        "    # Acesse os dados (opcional)\n",
        "    print(f\"Nome: {data['nome']}\")\n",
        "    print(f\"Linguagem: {data['linguagem']}\")\n",
        "\n",
        "except json.JSONDecodeError:\n",
        "    print(\"JSON inválido\")"
      ],
      "metadata": {
        "colab": {
          "base_uri": "https://localhost:8080/"
        },
        "id": "oJPDyo1iunz5",
        "outputId": "6df8342b-d12e-45df-f8bf-7fdc789916fb"
      },
      "execution_count": null,
      "outputs": [
        {
          "output_type": "stream",
          "name": "stdout",
          "text": [
            "JSON válido\n",
            "Nome: Gemini\n",
            "Linguagem: Python\n"
          ]
        }
      ]
    },
    {
      "cell_type": "code",
      "source": [
        "import json\n",
        "\n",
        "\n",
        "def validate_json(filename):\n",
        "    \"\"\"\n",
        "    Valida um arquivo JSON e retorna True se válido, False caso contrário.\n",
        "\n",
        "    Args:\n",
        "        filename (str): Caminho do arquivo JSON.\n",
        "\n",
        "    Returns:\n",
        "        bool: True se válido, False caso contrário.\n",
        "    \"\"\"\n",
        "\n",
        "    try:\n",
        "        with open(filename, \"r\") as f:\n",
        "            json.load(f)\n",
        "        return True\n",
        "    except json.JSONDecodeError:\n",
        "        return False"
      ],
      "metadata": {
        "id": "yVa2VaEatR_f"
      },
      "execution_count": null,
      "outputs": []
    },
    {
      "cell_type": "code",
      "source": [
        "import json\n",
        "import yaml\n",
        "\n",
        "# Verifique se o arquivo existe\n",
        "if os.path.isfile(\"arquivo.txt\"):\n",
        "    with open(\"arquivo.txt\", \"r\") as f:\n",
        "        dados_json = json.load(f)\n",
        "\n",
        "    dados_yaml = yaml.dump(dados_json)\n",
        "\n",
        "    with open(\"arquivo_yaml.txt\", \"w\") as f:\n",
        "        f.write(dados_yaml)\n",
        "else:\n",
        "    print(\"Erro: Arquivo 'arquivo.txt' não encontrado.\")"
      ],
      "metadata": {
        "colab": {
          "base_uri": "https://localhost:8080/"
        },
        "id": "CA3zTGPipLUY",
        "outputId": "de1bd9d9-b7a7-4691-b198-9201fbf3a8fa"
      },
      "execution_count": null,
      "outputs": [
        {
          "output_type": "stream",
          "name": "stdout",
          "text": [
            "Erro: Arquivo 'arquivo.txt' não encontrado.\n"
          ]
        }
      ]
    },
    {
      "cell_type": "code",
      "source": [
        "import json\n",
        "\n",
        "file_path = \"/content/MeuProjeto/TXT para extrair paginas do edital.txt\"\n",
        "\n",
        "try:\n",
        "    with open(file_path, \"r\") as f:\n",
        "        dados_json = json.load(f)\n",
        "        print(\"Arquivo JSON carregado com sucesso!\")\n",
        "\n",
        "    # Processe os dados JSON aqui\n",
        "\n",
        "except FileNotFoundError:\n",
        "    print(f\"Erro: Arquivo não encontrado em {file_path}\")\n",
        "    print(\"Verifique o caminho do arquivo e as permissões de acesso.\")\n",
        "except json.JSONDecodeError:\n",
        "    print(\"Erro: O arquivo não contém dados JSON válidos.\")"
      ],
      "metadata": {
        "id": "H3IJnugkwUbi",
        "colab": {
          "base_uri": "https://localhost:8080/"
        },
        "outputId": "864adbe4-c080-4dbe-8f46-c3e24580ddc4"
      },
      "execution_count": null,
      "outputs": [
        {
          "output_type": "stream",
          "name": "stdout",
          "text": [
            "Erro: Arquivo não encontrado em /content/MeuProjeto/TXT para extrair paginas do edital.txt\n",
            "Verifique o caminho do arquivo e as permissões de acesso.\n"
          ]
        }
      ]
    },
    {
      "cell_type": "code",
      "source": [
        "def validate(file_path):\n",
        "    \"\"\"\n",
        "    Valida um arquivo JSON e retorna True se válido, False caso contrário.\n",
        "\n",
        "    Args:\n",
        "        file_path (str): Caminho do arquivo JSON.\n",
        "\n",
        "    Returns:\n",
        "        bool: True se válido, False caso contrário.\n",
        "    \"\"\"\n",
        "\n",
        "    try:\n",
        "        with open(file_path, \"r\") as f:\n",
        "            json.load(f)\n",
        "        return True\n",
        "    except json.JSONDecodeError:\n",
        "        return False"
      ],
      "metadata": {
        "id": "U_T3joHQyRST"
      },
      "execution_count": null,
      "outputs": []
    },
    {
      "cell_type": "code",
      "source": [
        "def validar_json(filepath):\n",
        "    \"\"\"\n",
        "    Valida um arquivo JSON e retorna True se válido, False caso contrário.\n",
        "\n",
        "    Args:\n",
        "        filepath (str): Caminho do arquivo JSON.\n",
        "\n",
        "    Returns:\n",
        "        bool: True se válido, False caso contrário.\n",
        "    \"\"\"\n",
        "\n",
        "    try:\n",
        "        with open(filepath, \"r\") as f:\n",
        "            json.load(f)\n",
        "        return True\n",
        "    except json.JSONDecodeError:\n",
        "        return False"
      ],
      "metadata": {
        "id": "GxT5gYDc2Guj"
      },
      "execution_count": null,
      "outputs": []
    },
    {
      "cell_type": "code",
      "source": [
        "def validar_json(filepath):\n",
        "    \"\"\"\n",
        "    Valida um arquivo JSON e retorna True se válido, False caso contrário.\n",
        "\n",
        "    Args:\n",
        "        filepath (str): Caminho do arquivo JSON.\n",
        "\n",
        "    Returns:\n",
        "        bool: True se válido, False caso contrário.\n",
        "    \"\"\"\n",
        "\n",
        "    try:\n",
        "        with open(filepath, \"r\") as f:\n",
        "            json.load(f)\n",
        "        return True\n",
        "    except json.JSONDecodeError:\n",
        "        return False"
      ],
      "metadata": {
        "id": "oClI6BvR3EVp"
      },
      "execution_count": null,
      "outputs": []
    },
    {
      "cell_type": "code",
      "source": [
        "import sys\n",
        "sys.path.append(\"/my/path/to/validador\")"
      ],
      "metadata": {
        "id": "jSkwQ9_J3eYr"
      },
      "execution_count": null,
      "outputs": []
    },
    {
      "cell_type": "code",
      "source": [
        "# prompt:\n",
        "\n",
        "def is_woodall(x):\n",
        "    if x & 1 == 0:\n",
        "        return False\n",
        "    if x == 1:\n",
        "        return True\n",
        "    x += 1\n",
        "    p = 0\n",
        "    while x & 1 == 0:\n",
        "        x >>= 1\n",
        "        p += 1\n",
        "        if p == x:\n",
        "            return True\n",
        "    return False\n",
        "\n"
      ],
      "metadata": {
        "id": "BePyoSNT3wnb"
      },
      "execution_count": null,
      "outputs": []
    },
    {
      "cell_type": "code",
      "source": [
        "!pip install --upgrade tabula-py"
      ],
      "metadata": {
        "colab": {
          "base_uri": "https://localhost:8080/"
        },
        "id": "8vJDRHqMmTue",
        "outputId": "fe698d48-7ba2-407d-ee32-6cbde671e5cd"
      },
      "execution_count": null,
      "outputs": [
        {
          "output_type": "stream",
          "name": "stdout",
          "text": [
            "Requirement already satisfied: tabula-py in /usr/local/lib/python3.10/dist-packages (2.9.0)\n",
            "Requirement already satisfied: pandas>=0.25.3 in /usr/local/lib/python3.10/dist-packages (from tabula-py) (2.0.3)\n",
            "Requirement already satisfied: numpy in /usr/local/lib/python3.10/dist-packages (from tabula-py) (1.25.2)\n",
            "Requirement already satisfied: distro in /usr/lib/python3/dist-packages (from tabula-py) (1.7.0)\n",
            "Requirement already satisfied: python-dateutil>=2.8.2 in /usr/local/lib/python3.10/dist-packages (from pandas>=0.25.3->tabula-py) (2.8.2)\n",
            "Requirement already satisfied: pytz>=2020.1 in /usr/local/lib/python3.10/dist-packages (from pandas>=0.25.3->tabula-py) (2023.4)\n",
            "Requirement already satisfied: tzdata>=2022.1 in /usr/local/lib/python3.10/dist-packages (from pandas>=0.25.3->tabula-py) (2024.1)\n",
            "Requirement already satisfied: six>=1.5 in /usr/local/lib/python3.10/dist-packages (from python-dateutil>=2.8.2->pandas>=0.25.3->tabula-py) (1.16.0)\n"
          ]
        }
      ]
    },
    {
      "cell_type": "code",
      "source": [
        "!python -V"
      ],
      "metadata": {
        "colab": {
          "base_uri": "https://localhost:8080/"
        },
        "id": "bGjHmiaWneK_",
        "outputId": "77d03701-dbde-4882-8839-ff385af27554"
      },
      "execution_count": null,
      "outputs": [
        {
          "output_type": "stream",
          "name": "stdout",
          "text": [
            "Python 3.10.12\n"
          ]
        }
      ]
    },
    {
      "cell_type": "code",
      "source": [
        "!pip show tabula-py"
      ],
      "metadata": {
        "colab": {
          "base_uri": "https://localhost:8080/"
        },
        "id": "HXx4trT6niPY",
        "outputId": "cc8925e7-6351-4c37-89d0-e256483cc9e1"
      },
      "execution_count": null,
      "outputs": [
        {
          "output_type": "stream",
          "name": "stdout",
          "text": [
            "Name: tabula-py\n",
            "Version: 2.9.0\n",
            "Summary: Simple wrapper for tabula-java, read tables from PDF into DataFrame\n",
            "Home-page: \n",
            "Author: \n",
            "Author-email: Aki Ariga <chezou@gmail.com>\n",
            "License: The MIT License (MIT)\n",
            "        Copyright (c) 2016 Michiaki Ariga\n",
            "        \n",
            "        Permission is hereby granted, free of charge, to any person obtaining a copy of this software and associated documentation files (the \"Software\"), to deal in the Software without restriction, including without limitation the rights to use, copy, modify, merge, publish, distribute, sublicense, and/or sell copies of the Software, and to permit persons to whom the Software is furnished to do so, subject to the following conditions:\n",
            "        \n",
            "        The above copyright notice and this permission notice shall be included in all copies or substantial portions of the Software.\n",
            "        \n",
            "        THE SOFTWARE IS PROVIDED \"AS IS\", WITHOUT WARRANTY OF ANY KIND, EXPRESS OR IMPLIED, INCLUDING BUT NOT LIMITED TO THE WARRANTIES OF MERCHANTABILITY, FITNESS FOR A PARTICULAR PURPOSE AND NONINFRINGEMENT. IN NO EVENT SHALL THE AUTHORS OR COPYRIGHT HOLDERS BE LIABLE FOR ANY CLAIM, DAMAGES OR OTHER LIABILITY, WHETHER IN AN ACTION OF CONTRACT, TORT OR OTHERWISE, ARISING FROM, OUT OF OR IN CONNECTION WITH THE SOFTWARE OR THE USE OR OTHER DEALINGS IN THE SOFTWARE.\n",
            "        \n",
            "Location: /usr/local/lib/python3.10/dist-packages\n",
            "Requires: distro, numpy, pandas\n",
            "Required-by: \n"
          ]
        }
      ]
    },
    {
      "cell_type": "code",
      "source": [
        "# prompt:\n",
        "\n",
        "!git clone https://github.com/tabulapdf/tabula-java.git\n",
        "!cd tabula-java\n",
        "!mvn clean package -Dmaven.test.skip=true\n",
        "!pip install /content/tabula-java/target/tabula-1.0.5-jar-with-dependencies.jar\n"
      ],
      "metadata": {
        "colab": {
          "base_uri": "https://localhost:8080/"
        },
        "id": "JW-fk5WXmZOu",
        "outputId": "3b8cba24-404c-44b5-d775-88fbc5b1bcd3"
      },
      "execution_count": null,
      "outputs": [
        {
          "output_type": "stream",
          "name": "stdout",
          "text": [
            "fatal: destination path 'tabula-java' already exists and is not an empty directory.\n",
            "/bin/bash: line 1: mvn: command not found\n",
            "\u001b[31mERROR: Invalid requirement: '/content/tabula-java/target/tabula-1.0.5-jar-with-dependencies.jar'\n",
            "Hint: It looks like a path. File '/content/tabula-java/target/tabula-1.0.5-jar-with-dependencies.jar' does not exist.\u001b[0m\u001b[31m\n",
            "\u001b[0m"
          ]
        }
      ]
    },
    {
      "cell_type": "code",
      "source": [
        "# prompt:\n",
        "\n",
        "!pip install pyyaml\n",
        "import yaml\n",
        "\n",
        "def write_yaml(data, filename):\n",
        "    with open(filename, \"w\") as file:\n",
        "        yaml.dump(data, file)\n",
        "\n",
        "data = {\"key1\": \"value1\", \"key2\": \"value2\"}\n",
        "filename = \"my_yaml_file.yaml\"\n",
        "\n",
        "write_yaml(data, filename)\n"
      ],
      "metadata": {
        "colab": {
          "base_uri": "https://localhost:8080/"
        },
        "id": "u4lPUR4hj2lL",
        "outputId": "58ac327f-0648-4d86-ce79-08e20b9ea5f5"
      },
      "execution_count": null,
      "outputs": [
        {
          "output_type": "stream",
          "name": "stdout",
          "text": [
            "Requirement already satisfied: pyyaml in /usr/local/lib/python3.10/dist-packages (6.0.1)\n"
          ]
        }
      ]
    },
    {
      "cell_type": "code",
      "source": [
        "import tabula\n",
        "\n",
        "# Carregar o arquivo PDF\n",
        "file_path = \"/path/to/edital-cpnu-bloco-7-2024-04-17-retificado.pdf\"\n",
        "try:\n",
        "    edital_df = tabula.read_pdf(file_path)\n",
        "except FileNotFoundError:\n",
        "    print(\"Arquivo PDF não encontrado. Verifique o caminho do arquivo.\")"
      ],
      "metadata": {
        "id": "5ef9mtgv5q0l",
        "colab": {
          "base_uri": "https://localhost:8080/"
        },
        "outputId": "da2cfc3b-6dad-4ef3-a868-fcf538c70d2d"
      },
      "execution_count": null,
      "outputs": [
        {
          "output_type": "stream",
          "name": "stdout",
          "text": [
            "Arquivo PDF não encontrado. Verifique o caminho do arquivo.\n"
          ]
        }
      ]
    },
    {
      "cell_type": "code",
      "source": [
        "# prompt:\n",
        "\n",
        "# Import required libraries\n",
        "import os\n",
        "import json\n",
        "import yaml\n",
        "\n",
        "# Define the function to check if a file exists\n",
        "def file_exists(filename):\n",
        "    return os.path.isfile(filename)\n",
        "\n",
        "# Define the function to read a JSON file\n",
        "def read_json(filename):\n",
        "    with open(filename, \"r\") as f:\n",
        "        return json.load(f)\n",
        "\n",
        "# Define the function to write a YAML file\n",
        "def write_yaml(filename, data):\n",
        "    with open(filename, \"w\") as f:\n",
        "        yaml.dump(data, f)\n",
        "\n",
        "# Define the function to convert a JSON file to a YAML file\n",
        "def json_to_yaml(json_filename, yaml_filename):\n",
        "    if file_exists(json_filename):\n",
        "        json_data = read_json(json_filename)\n",
        "        write_yaml(yaml_filename, json_data)\n",
        "    else:\n",
        "        print(f\"Error: File '{json_filename}' does not exist.\")\n",
        "\n",
        "# Example usage\n",
        "json_filename = \"my_json_file.json\"\n",
        "yaml_filename = \"my_yaml_file.yaml\"\n",
        "\n",
        "json_to_yaml(json_filename, yaml_filename)\n"
      ],
      "metadata": {
        "colab": {
          "base_uri": "https://localhost:8080/"
        },
        "id": "M9yuqrBlsCL-",
        "outputId": "22641e65-7376-49c2-8db4-75360dcffad6"
      },
      "execution_count": null,
      "outputs": [
        {
          "output_type": "stream",
          "name": "stdout",
          "text": [
            "Error: File 'my_json_file.json' does not exist.\n"
          ]
        }
      ]
    },
    {
      "cell_type": "code",
      "source": [
        "# prompt:\n",
        "\n",
        "def validate_json(filename):\n",
        "    try:\n",
        "        with open(filename, \"r\") as f:\n",
        "            json.load(f)\n",
        "        return True\n",
        "    except json.JSONDecodeError:\n",
        "        return False\n",
        "\n",
        "def json_to_yaml(json_filename, yaml_filename):\n",
        "    if file_exists(json_filename) and validate_json(json_filename):\n",
        "        json_data = read_json(json_filename)\n",
        "        write_yaml(yaml_filename, json_data)\n",
        "    else:\n",
        "        print(f\"Error: File '{json_filename}' does not exist or is not a valid JSON file.\")\n"
      ],
      "metadata": {
        "id": "oCXb9KdzuN1e"
      },
      "execution_count": null,
      "outputs": []
    },
    {
      "cell_type": "markdown",
      "source": [
        "Adicionar uma funcionalidade para validar o formato do arquivo JSON antes de convertê-lo para YAML."
      ],
      "metadata": {
        "id": "TyIKdFgxuIN3"
      }
    },
    {
      "cell_type": "code",
      "source": [
        "# prompt:\n",
        "\n",
        "def is_woodall(n):\n",
        "  if n <= 0:\n",
        "    return False\n",
        "  if n == 1:\n",
        "    return True\n",
        "  n += 1\n",
        "  p = 0\n",
        "  while n % 2 == 0:\n",
        "    n //= 2\n",
        "    p += 1\n",
        "    if p == n:\n",
        "      return True\n",
        "  return False\n"
      ],
      "metadata": {
        "id": "-3jZKwNjubPG"
      },
      "execution_count": null,
      "outputs": []
    },
    {
      "cell_type": "markdown",
      "source": [],
      "metadata": {
        "id": "1NyLz6RPuK01"
      }
    },
    {
      "cell_type": "code",
      "source": [
        "# prompt:\n",
        "\n",
        "def is_woodall(n):\n",
        "  if n <= 0:\n",
        "    return False\n",
        "  if n == 1:\n",
        "    return True\n",
        "  n += 1\n",
        "  p = 0\n",
        "  while n % 2 == 0:\n",
        "    n //= 2\n",
        "    p += 1\n",
        "    if p == n:\n",
        "      return True\n",
        "  return False\n",
        "\n",
        "# Test the function with some examples\n",
        "print(is_woodall(1))  # True\n",
        "print(is_woodall(2))  # False\n",
        "print(is_woodall(3))  # True\n",
        "print(is_woodall(4))  # False\n",
        "print(is_woodall(5))  # True\n",
        "print(is_woodall(17))  # True\n",
        "print(is_woodall(18))  # False\n",
        "print(is_woodall(19))  # True\n",
        "print(is_woodall(20))  # False\n"
      ],
      "metadata": {
        "colab": {
          "base_uri": "https://localhost:8080/"
        },
        "id": "wXSMA8yLulVh",
        "outputId": "cb871b03-31a8-48d2-dff1-7be40bb4ea3d"
      },
      "execution_count": null,
      "outputs": [
        {
          "output_type": "stream",
          "name": "stdout",
          "text": [
            "True\n",
            "False\n",
            "False\n",
            "False\n",
            "False\n",
            "False\n",
            "False\n",
            "False\n",
            "False\n"
          ]
        }
      ]
    },
    {
      "cell_type": "code",
      "source": [
        "# prompt:\n",
        "\n",
        "def is_woodall(n):\n",
        "  if n <= 0:\n",
        "    return False\n",
        "  if n == 1:\n",
        "    return True\n",
        "  n += 1\n",
        "  p = 0\n",
        "  while n % 2 == 0:\n",
        "    n //= 2\n",
        "    p += 1\n",
        "    if p == n:\n",
        "      return True\n",
        "  return False\n",
        "\n",
        "# Test the function with some examples\n",
        "print(is_woodall(1))  # True\n",
        "print(is_woodall(2))  # False\n",
        "print(is_woodall(3))  # True\n",
        "print(is_woodall(4))  # False\n",
        "print(is_woodall(5))  # True\n",
        "print(is_woodall(17))  # True\n",
        "print(is_woodall(18))  # False\n",
        "print(is_woodall(19))  # True\n",
        "print(is_woodall(20))  # False\n",
        "\n"
      ],
      "metadata": {
        "colab": {
          "base_uri": "https://localhost:8080/"
        },
        "id": "-_oOTjg9urKQ",
        "outputId": "107694fa-f6f6-4fe6-faf7-4c7bc3581bb3"
      },
      "execution_count": null,
      "outputs": [
        {
          "output_type": "stream",
          "name": "stdout",
          "text": [
            "True\n",
            "False\n",
            "False\n",
            "False\n",
            "False\n",
            "False\n",
            "False\n",
            "False\n",
            "False\n"
          ]
        }
      ]
    },
    {
      "cell_type": "code",
      "source": [
        "# prompt:\n",
        "\n",
        "def is_woodall(n):\n",
        "  if n <= 0:\n",
        "    return False\n",
        "  if n == 1:\n",
        "    return True\n",
        "  n += 1\n",
        "  p = 0\n",
        "  while n % 2 == 0:\n",
        "    n //= 2\n",
        "    p += 1\n",
        "    if p == n:\n",
        "      return True\n",
        "  return False\n",
        "\n",
        "# Test the function with some examples\n",
        "print(is_woodall(1))  # True\n",
        "print(is_woodall(2))  # False\n",
        "print(is_woodall(3))  # True\n",
        "print(is_woodall(4))  # False\n",
        "print(is_woodall(5))  # True\n",
        "print(is_woodall(17))  # True\n",
        "print(is_woodall(18))  # False\n",
        "print(is_woodall(19))  # True\n",
        "print(is_woodall(20))  # False\n",
        "\n"
      ],
      "metadata": {
        "colab": {
          "base_uri": "https://localhost:8080/"
        },
        "id": "n9pc4w84uvso",
        "outputId": "08c79666-1bb6-4b8c-906b-172b10eee974"
      },
      "execution_count": null,
      "outputs": [
        {
          "output_type": "stream",
          "name": "stdout",
          "text": [
            "True\n",
            "False\n",
            "False\n",
            "False\n",
            "False\n",
            "False\n",
            "False\n",
            "False\n",
            "False\n"
          ]
        }
      ]
    },
    {
      "cell_type": "code",
      "source": [
        "import os\n",
        "import json\n",
        "import yaml\n",
        "\n",
        "# Define the function to check if a file exists\n",
        "def file_exists(filename):\n",
        "    return os.path.isfile(filename)\n",
        "\n",
        "# Define the function to read a JSON file\n",
        "def read_json(filename):\n",
        "    with open(filename, \"r\") as f:\n",
        "        return json.load(f)\n",
        "\n",
        "# Define the function to write a YAML file\n",
        "def write_yaml(filename, data):\n",
        "    with open(filename, \"w\") as f:\n",
        "        yaml.dump(data, f)\n",
        "\n",
        "# Define the function to validate the JSON file format\n",
        "def validate_json(filename):\n",
        "    try:\n",
        "        json_data = read_json(filename)\n",
        "        return True\n",
        "    except json.decoder.JSONDecodeError:\n",
        "        return False\n",
        "\n",
        "# Define the function to convert a JSON file to a YAML file\n",
        "def json_to_yaml(json_filename, yaml_filename):\n",
        "    if file_exists(json_filename) and validate_json(json_filename):\n",
        "        json_data = read_json(json_filename)\n",
        "        write_yaml(yaml_filename, json_data)\n",
        "    else:\n",
        "        print(f\"Error: File '{json_filename}' does not exist or is not a valid JSON file.\")\n",
        "\n",
        "# Example usage\n",
        "json_filename = \"my_json_file.json\"\n",
        "yaml_filename = \"my_yaml_file.yaml\"\n",
        "\n",
        "json_to_yaml(json_filename, yaml_filename)"
      ],
      "metadata": {
        "colab": {
          "base_uri": "https://localhost:8080/"
        },
        "id": "2ok77OFuu7MP",
        "outputId": "7dd1c382-3ca1-4b43-d336-545dfdd3e9c5"
      },
      "execution_count": null,
      "outputs": [
        {
          "output_type": "stream",
          "name": "stdout",
          "text": [
            "Error: File 'my_json_file.json' does not exist or is not a valid JSON file.\n"
          ]
        }
      ]
    },
    {
      "cell_type": "code",
      "source": [
        "# prompt:\n",
        "\n",
        "# Define the function to check if a file exists\n",
        "def file_exists(filename):\n",
        "    return os.path.isfile(filename)\n",
        "\n",
        "# Define the function to read a JSON file\n",
        "def read_json(filename):\n",
        "    with open(filename, \"r\") as f:\n",
        "        return json.load(f)\n",
        "\n",
        "# Define the function to write a YAML file\n",
        "def write_yaml(filename, data):\n",
        "    with open(filename, \"w\") as f:\n",
        "        yaml.dump(data, f)\n",
        "\n",
        "# Define the function to validate the JSON file format\n",
        "def validate_json(filename):\n",
        "    try:\n",
        "        json_data = read_json(filename)\n",
        "        return True\n",
        "    except json.decoder.JSONDecodeError:\n",
        "        return False\n",
        "\n",
        "# Define the function to convert a JSON file to a YAML file\n",
        "def json_to_yaml(json_filename, yaml_filename):\n",
        "    if file_exists(json_filename) and validate_json(json_filename):\n",
        "        json_data = read_json(json_filename)\n",
        "        write_yaml(yaml_filename, json_data)\n",
        "    else:\n",
        "        print(f\"Error: File '{json_filename}' does not exist or is not a valid JSON file.\")\n",
        "\n",
        "# Example usage\n",
        "json_filename = \"my_json_file.json\"\n",
        "yaml_filename = \"my_yaml_file.yaml\"\n",
        "\n",
        "json_to_yaml(json_filename, yaml_filename)\n"
      ],
      "metadata": {
        "colab": {
          "base_uri": "https://localhost:8080/"
        },
        "id": "PHEK1BRjvGSm",
        "outputId": "487295ff-4fb0-4041-c6aa-14f79908137c"
      },
      "execution_count": null,
      "outputs": [
        {
          "output_type": "stream",
          "name": "stdout",
          "text": [
            "Error: File 'my_json_file.json' does not exist or is not a valid JSON file.\n"
          ]
        }
      ]
    },
    {
      "cell_type": "code",
      "source": [
        "import os\n",
        "import json\n",
        "import yaml\n",
        "\n",
        "# Define the function to check if a file exists\n",
        "def file_exists(filename):\n",
        "    return os.path.isfile(filename)\n",
        "\n",
        "# Define the function to read a JSON file\n",
        "def read_json(filename):\n",
        "    with open(filename, \"r\") as f:\n",
        "        return json.load(f)\n",
        "\n",
        "# Define the function to write a YAML file\n",
        "def write_yaml(filename, data):\n",
        "    with open(filename, \"w\") as f:\n",
        "        yaml.dump(data, f)\n",
        "\n",
        "# Define the function to validate the JSON file format\n",
        "def validate_json(filename):\n",
        "    try:\n",
        "        json_data = read_json(filename)\n",
        "        return True\n",
        "    except json.decoder.JSONDecodeError:\n",
        "        return False\n",
        "\n",
        "# Define the function to convert a JSON file to a YAML file\n",
        "def json_to_yaml(json_filename, yaml_filename):\n",
        "    try:\n",
        "        if file_exists(json_filename) and validate_json(json_filename):\n",
        "            json_data = read_json(json_filename)\n",
        "            write_yaml(yaml_filename, json_data)\n",
        "        else:\n",
        "            print(f\"Error: File '{json_filename}' does not exist or is not a valid JSON file.\")\n",
        "    except Exception as e:\n",
        "        print(f\"Error: {e}\")\n",
        "\n",
        "# Example usage\n",
        "json_filename = \"my_json_file.json\"\n",
        "yaml_filename = \"my_yaml_file.yaml\"\n",
        "\n",
        "json_to_yaml(json_filename, yaml_filename)"
      ],
      "metadata": {
        "colab": {
          "base_uri": "https://localhost:8080/"
        },
        "id": "JnR8lmlbvwq3",
        "outputId": "6e2f29ad-b0e4-4e57-8b5a-9d37468b6994"
      },
      "execution_count": null,
      "outputs": [
        {
          "output_type": "stream",
          "name": "stdout",
          "text": [
            "Error: File 'my_json_file.json' does not exist or is not a valid JSON file.\n"
          ]
        }
      ]
    },
    {
      "cell_type": "code",
      "source": [
        "import os\n",
        "import json\n",
        "import yaml\n",
        "\n",
        "# Define the function to check if a file exists\n",
        "def file_exists(filename):\n",
        "    return os.path.isfile(filename)\n",
        "\n",
        "# Define the function to read a JSON file\n",
        "def read_json(filename):\n",
        "    with open(filename, \"r\") as f:\n",
        "        return json.load(f)\n",
        "\n",
        "# Define the function to write a YAML file\n",
        "def write_yaml(filename, data):\n",
        "    with open(filename, \"w\") as f:\n",
        "        yaml.dump(data, f)\n",
        "\n",
        "# Define the function to validate the JSON file format\n",
        "def validate_json(filename):\n",
        "    try:\n",
        "        json_data = read_json(filename)\n",
        "        return True\n",
        "    except json.decoder.JSONDecodeError:\n",
        "        return False\n",
        "\n",
        "# Define the function to convert a JSON file to a YAML file\n",
        "def json_to_yaml(json_filename, yaml_filename):\n",
        "    try:\n",
        "        if file_exists(json_filename) and validate_json(json_filename):\n",
        "            json_data = read_json(json_filename)\n",
        "            write_yaml(yaml_filename, json_data)\n",
        "        else:\n",
        "            print(f\"Error: File '{json_filename}' does not exist or is not a valid JSON file.\")\n",
        "    except Exception as e:\n",
        "        print(f\"Error: {e}\")\n",
        "\n",
        "# Example usage\n",
        "json_filename = input(\"Enter the JSON file name: \")\n",
        "yaml_filename = input(\"Enter the YAML file name: \")\n",
        "\n",
        "json_to_yaml(json_filename, yaml_filename)"
      ],
      "metadata": {
        "colab": {
          "base_uri": "https://localhost:8080/"
        },
        "id": "712kKxKgwQsI",
        "outputId": "e6c2afff-5309-425a-8895-761e7794fbee"
      },
      "execution_count": null,
      "outputs": [
        {
          "output_type": "stream",
          "name": "stdout",
          "text": [
            "Enter the JSON file name: TXT para extrair paginas do edital.txt\n",
            "Enter the YAML file name: my_yaml_file.yaml\n",
            "Error: File 'TXT para extrair paginas do edital.txt' does not exist or is not a valid JSON file.\n"
          ]
        }
      ]
    },
    {
      "cell_type": "code",
      "source": [
        "\n",
        "import IPython\n",
        "from google.colab import output\n",
        "\n",
        "def Concat(a, b):\n",
        "  # Use display.JSON to transfer a structured result.\n",
        "  return IPython.display.JSON({'result': ' '.join((a, b))})\n",
        "\n",
        "output.register_callback('notebook.Concat', Concat)"
      ],
      "metadata": {
        "id": "LZxOnNJnyn4V"
      },
      "execution_count": null,
      "outputs": []
    },
    {
      "cell_type": "code",
      "source": [
        "import IPython\n",
        "from google.colab import output\n",
        "\n",
        "def Concat(a, b):\n",
        "  # Use display.JSON to transfer a structured result.\n",
        "  return IPython.display.JSON({'result': ' '.join((a, b))})\n",
        "\n",
        "output.register_callback('notebook.Concat', Concat)"
      ],
      "metadata": {
        "id": "gfgGE3NsypJn"
      },
      "execution_count": null,
      "outputs": []
    },
    {
      "cell_type": "code",
      "source": [
        "%%javascript\n",
        "(async function() {\n",
        "  const result = await google.colab.kernel.invokeFunction(\n",
        "    'notebook.Concat', // The callback name.\n",
        "    ['hello', 'world!'], // The arguments.\n",
        "    {}); // kwargs\n",
        "  const text = result.data['application/json'];\n",
        "  document.querySelector(\"#output-area\").appendChild(document.createTextNode(text.result));\n",
        "})();"
      ],
      "metadata": {
        "id": "_iO0wUKVypJo",
        "colab": {
          "base_uri": "https://localhost:8080/",
          "height": 34
        },
        "outputId": "887d2618-2e75-47dc-fa99-e9da9c7edc2b"
      },
      "execution_count": null,
      "outputs": [
        {
          "output_type": "display_data",
          "data": {
            "text/plain": [
              "<IPython.core.display.Javascript object>"
            ],
            "application/javascript": [
              "(async function() {\n",
              "  const result = await google.colab.kernel.invokeFunction(\n",
              "    'notebook.Concat', // The callback name.\n",
              "    ['hello', 'world!'], // The arguments.\n",
              "    {}); // kwargs\n",
              "  const text = result.data['application/json'];\n",
              "  document.querySelector(\"#output-area\").appendChild(document.createTextNode(text.result));\n",
              "})();\n"
            ]
          },
          "metadata": {}
        }
      ]
    },
    {
      "cell_type": "code",
      "source": [
        "import IPython\n",
        "from google.colab import output\n",
        "\n",
        "display(IPython.display.HTML('''\n",
        "    The items:\n",
        "    <br><ol id=\"items\"></ol>\n",
        "    <button id='button'>Click to add</button>\n",
        "    <script>\n",
        "      document.querySelector('#button').onclick = () => {\n",
        "        google.colab.kernel.invokeFunction('notebook.AddListItem', [], {});\n",
        "      };\n",
        "    </script>\n",
        "    '''))\n",
        "\n",
        "def add_list_item():\n",
        "  # Use redirect_to_element to direct the elements which are being written.\n",
        "  with output.redirect_to_element('#items'):\n",
        "    # Use display to add items which will be persisted on notebook reload.\n",
        "    display(IPython.display.HTML('<li> Another item</li>'))\n",
        "\n",
        "output.register_callback('notebook.AddListItem', add_list_item)"
      ],
      "metadata": {
        "id": "M6mChe6oypJo",
        "colab": {
          "base_uri": "https://localhost:8080/",
          "height": 69
        },
        "outputId": "311d76b5-75e3-4ce3-cf23-873c2fdc7e33"
      },
      "execution_count": null,
      "outputs": [
        {
          "output_type": "display_data",
          "data": {
            "text/plain": [
              "<IPython.core.display.HTML object>"
            ],
            "text/html": [
              "\n",
              "    The items:\n",
              "    <br><ol id=\"items\"></ol>\n",
              "    <button id='button'>Click to add</button>\n",
              "    <script>\n",
              "      document.querySelector('#button').onclick = () => {\n",
              "        google.colab.kernel.invokeFunction('notebook.AddListItem', [], {});\n",
              "      };\n",
              "    </script>\n",
              "    "
            ]
          },
          "metadata": {}
        }
      ]
    },
    {
      "cell_type": "code",
      "source": [
        "import IPython\n",
        "import uuid\n",
        "from google.colab import output\n",
        "\n",
        "class InvokeButton(object):\n",
        "  def __init__(self, title, callback):\n",
        "    self._title = title\n",
        "    self._callback = callback\n",
        "\n",
        "  def _repr_html_(self):\n",
        "    callback_id = 'button-' + str(uuid.uuid4())\n",
        "    output.register_callback(callback_id, self._callback)\n",
        "\n",
        "    template = \"\"\"<button id=\"{callback_id}\">{title}</button>\n",
        "        <script>\n",
        "          document.querySelector(\"#{callback_id}\").onclick = (e) => {{\n",
        "            google.colab.kernel.invokeFunction('{callback_id}', [], {{}})\n",
        "            e.preventDefault();\n",
        "          }};\n",
        "        </script>\"\"\"\n",
        "    html = template.format(title=self._title, callback_id=callback_id)\n",
        "    return html\n",
        "\n",
        "def do_something():\n",
        "  print('here')\n",
        "\n",
        "InvokeButton('click me', do_something)"
      ],
      "metadata": {
        "id": "cBUNF_DkypJo",
        "colab": {
          "base_uri": "https://localhost:8080/",
          "height": 38
        },
        "outputId": "a1be3cff-51d4-4af3-ebcf-cbe51cb3bc72"
      },
      "execution_count": null,
      "outputs": [
        {
          "output_type": "execute_result",
          "data": {
            "text/plain": [
              "<__main__.InvokeButton at 0x7fef7614d000>"
            ],
            "text/html": [
              "<button id=\"button-9949ff3a-2420-489c-adac-762b2188d31a\">click me</button>\n",
              "        <script>\n",
              "          document.querySelector(\"#button-9949ff3a-2420-489c-adac-762b2188d31a\").onclick = (e) => {\n",
              "            google.colab.kernel.invokeFunction('button-9949ff3a-2420-489c-adac-762b2188d31a', [], {})\n",
              "            e.preventDefault();\n",
              "          };\n",
              "        </script>"
            ]
          },
          "metadata": {},
          "execution_count": 56
        }
      ]
    },
    {
      "cell_type": "code",
      "source": [
        "%%javascript\n",
        "(async function() {\n",
        "  const result = await google.colab.kernel.invokeFunction(\n",
        "    'notebook.Concat', // The callback name.\n",
        "    ['hello', 'world!'], // The arguments.\n",
        "    {}); // kwargs\n",
        "  const text = result.data['application/json'];\n",
        "  document.querySelector(\"#output-area\").appendChild(document.createTextNode(text.result));\n",
        "})();"
      ],
      "metadata": {
        "id": "dwgReKNQyn4W",
        "colab": {
          "base_uri": "https://localhost:8080/",
          "height": 34
        },
        "outputId": "fc88fe0e-8241-46b6-9c47-3cd5c2dd64a7"
      },
      "execution_count": null,
      "outputs": [
        {
          "output_type": "display_data",
          "data": {
            "text/plain": [
              "<IPython.core.display.Javascript object>"
            ],
            "application/javascript": [
              "(async function() {\n",
              "  const result = await google.colab.kernel.invokeFunction(\n",
              "    'notebook.Concat', // The callback name.\n",
              "    ['hello', 'world!'], // The arguments.\n",
              "    {}); // kwargs\n",
              "  const text = result.data['application/json'];\n",
              "  document.querySelector(\"#output-area\").appendChild(document.createTextNode(text.result));\n",
              "})();\n"
            ]
          },
          "metadata": {}
        }
      ]
    },
    {
      "cell_type": "code",
      "source": [
        "import IPython\n",
        "from google.colab import output\n",
        "\n",
        "display(IPython.display.HTML('''\n",
        "    The items:\n",
        "    <br><ol id=\"items\"></ol>\n",
        "    <button id='button'>Click to add</button>\n",
        "    <script>\n",
        "      document.querySelector('#button').onclick = () => {\n",
        "        google.colab.kernel.invokeFunction('notebook.AddListItem', [], {});\n",
        "      };\n",
        "    </script>\n",
        "    '''))\n",
        "\n",
        "def add_list_item():\n",
        "  # Use redirect_to_element to direct the elements which are being written.\n",
        "  with output.redirect_to_element('#items'):\n",
        "    # Use display to add items which will be persisted on notebook reload.\n",
        "    display(IPython.display.HTML('<li> Another item</li>'))\n",
        "\n",
        "output.register_callback('notebook.AddListItem', add_list_item)"
      ],
      "metadata": {
        "id": "TKQcgRagyn4W",
        "colab": {
          "base_uri": "https://localhost:8080/",
          "height": 69
        },
        "outputId": "9d978d2b-5f7b-4982-86a2-28ab28cf3464"
      },
      "execution_count": null,
      "outputs": [
        {
          "output_type": "display_data",
          "data": {
            "text/plain": [
              "<IPython.core.display.HTML object>"
            ],
            "text/html": [
              "\n",
              "    The items:\n",
              "    <br><ol id=\"items\"></ol>\n",
              "    <button id='button'>Click to add</button>\n",
              "    <script>\n",
              "      document.querySelector('#button').onclick = () => {\n",
              "        google.colab.kernel.invokeFunction('notebook.AddListItem', [], {});\n",
              "      };\n",
              "    </script>\n",
              "    "
            ]
          },
          "metadata": {}
        },
        {
          "output_type": "display_data",
          "data": {
            "text/plain": [
              "<IPython.core.display.Javascript object>"
            ],
            "application/javascript": [
              "window[\"bf948de4-0e5d-11ef-9692-0242ac1c000c\"] = google.colab.output.getActiveOutputArea();\n",
              "//# sourceURL=js_71575bc851"
            ]
          },
          "metadata": {}
        },
        {
          "output_type": "display_data",
          "data": {
            "text/plain": [
              "<IPython.core.display.Javascript object>"
            ],
            "application/javascript": [
              "window[\"bf962dd4-0e5d-11ef-9692-0242ac1c000c\"] = document.querySelector(\"#items\");\n",
              "//# sourceURL=js_d58dbe87c2"
            ]
          },
          "metadata": {}
        },
        {
          "output_type": "display_data",
          "data": {
            "text/plain": [
              "<IPython.core.display.Javascript object>"
            ],
            "application/javascript": [
              "window[\"bf9766c2-0e5d-11ef-9692-0242ac1c000c\"] = google.colab.output.setActiveOutputArea(window[\"bf962dd4-0e5d-11ef-9692-0242ac1c000c\"]);\n",
              "//# sourceURL=js_c95f463a4e"
            ]
          },
          "metadata": {}
        },
        {
          "output_type": "display_data",
          "data": {
            "text/plain": [
              "<IPython.core.display.Javascript object>"
            ],
            "application/javascript": [
              "window[\"bf98d890-0e5d-11ef-9692-0242ac1c000c\"] = google.colab.output.setActiveOutputArea(window[\"bf948de4-0e5d-11ef-9692-0242ac1c000c\"]);\n",
              "//# sourceURL=js_383dbba3d4"
            ]
          },
          "metadata": {}
        }
      ]
    },
    {
      "cell_type": "code",
      "source": [
        "import IPython\n",
        "import uuid\n",
        "from google.colab import output\n",
        "\n",
        "class InvokeButton(object):\n",
        "  def __init__(self, title, callback):\n",
        "    self._title = title\n",
        "    self._callback = callback\n",
        "\n",
        "  def _repr_html_(self):\n",
        "    callback_id = 'button-' + str(uuid.uuid4())\n",
        "    output.register_callback(callback_id, self._callback)\n",
        "\n",
        "    template = \"\"\"<button id=\"{callback_id}\">{title}</button>\n",
        "        <script>\n",
        "          document.querySelector(\"#{callback_id}\").onclick = (e) => {{\n",
        "            google.colab.kernel.invokeFunction('{callback_id}', [], {{}})\n",
        "            e.preventDefault();\n",
        "          }};\n",
        "        </script>\"\"\"\n",
        "    html = template.format(title=self._title, callback_id=callback_id)\n",
        "    return html\n",
        "\n",
        "def do_something():\n",
        "  print('here')\n",
        "\n",
        "InvokeButton('click me', do_something)"
      ],
      "metadata": {
        "colab": {
          "base_uri": "https://localhost:8080/",
          "height": 38
        },
        "id": "FcjjkJ0tyn4W",
        "outputId": "f861b6e9-2358-4fd7-ea2b-47dd3e517dcd"
      },
      "execution_count": null,
      "outputs": [
        {
          "output_type": "execute_result",
          "data": {
            "text/plain": [
              "<__main__.InvokeButton at 0x7fef7614c820>"
            ],
            "text/html": [
              "<button id=\"button-3816f9b3-56d3-4efb-bc72-fa2d74e9a918\">click me</button>\n",
              "        <script>\n",
              "          document.querySelector(\"#button-3816f9b3-56d3-4efb-bc72-fa2d74e9a918\").onclick = (e) => {\n",
              "            google.colab.kernel.invokeFunction('button-3816f9b3-56d3-4efb-bc72-fa2d74e9a918', [], {})\n",
              "            e.preventDefault();\n",
              "          };\n",
              "        </script>"
            ]
          },
          "metadata": {},
          "execution_count": 59
        }
      ]
    },
    {
      "cell_type": "code",
      "source": [
        "# prompt: Adicionar uma funcionalidade para gerar um relatório com informações sobre a conversão de JSON para YAML, incluindo:\n",
        "# Nome do arquivo JSON\n",
        "# Nome do arquivo YAML\n",
        "# Número de registros convertidos\n",
        "# Status da conversão (sucesso ou falha)\n",
        "\n",
        "def json_to_yaml_with_report(json_filename, yaml_filename):\n",
        "    try:\n",
        "        if file_exists(json_filename) and validate_json(json_filename):\n",
        "            json_data = read_json(json_filename)\n",
        "            write_yaml(yaml_filename, json_data)\n",
        "\n",
        "            report = {\n",
        "                \"json_filename\": json_filename,\n",
        "                \"yaml_filename\": yaml_filename,\n",
        "                \"num_records\": len(json_data),\n",
        "                \"status\": \"success\"\n",
        "            }\n",
        "            print(f\"JSON to YAML conversion report:\\n{report}\")\n",
        "        else:\n",
        "            print(f\"Error: File '{json_filename}' does not exist or is not a valid JSON file.\")\n",
        "    except Exception as e:\n",
        "        print(f\"Error: {e}\")\n",
        "        report = {\n",
        "            \"json_filename\": json_filename,\n",
        "            \"yaml_filename\": yaml_filename,\n",
        "            \"num_records\": 0,\n",
        "            \"status\": \"failed\"\n",
        "        }\n",
        "        print(f\"JSON to YAML conversion report:\\n{report}\")\n",
        "\n",
        "# Example usage\n",
        "json_filename = \"my_json_file.json\"\n",
        "yaml_filename = \"my_yaml_file.yaml\"\n",
        "\n",
        "json_to_yaml_with_report(json_filename, yaml_filename)\n"
      ],
      "metadata": {
        "colab": {
          "base_uri": "https://localhost:8080/"
        },
        "id": "V7piTrFw16qQ",
        "outputId": "f9e442c2-be23-4545-962f-aa84a2bf74c9"
      },
      "execution_count": null,
      "outputs": [
        {
          "output_type": "stream",
          "name": "stdout",
          "text": [
            "Error: File 'my_json_file.json' does not exist or is not a valid JSON file.\n"
          ]
        }
      ]
    },
    {
      "cell_type": "code",
      "source": [
        "import os\n",
        "import json\n",
        "import yaml\n",
        "\n",
        "# Define the function to check if a file exists\n",
        "def file_exists(filename):\n",
        "    return os.path.isfile(filename)\n",
        "\n",
        "# Define the function to read a JSON file\n",
        "def read_json(filename):\n",
        "    with open(filename, \"r\") as f:\n",
        "        return json.load(f)\n",
        "\n",
        "# Define the function to write a YAML file\n",
        "def write_yaml(filename, data):\n",
        "    with open(filename, \"w\") as f:\n",
        "        yaml.dump(data, f)\n",
        "\n",
        "# Define the function to validate the JSON file format\n",
        "def validate_json(filename):\n",
        "    try:\n",
        "        json_data = read_json(filename)\n",
        "        return True\n",
        "    except json.decoder.JSONDecodeError:\n",
        "        return False\n",
        "\n",
        "# Define the function to convert a JSON file to a YAML file with a report\n",
        "def json_to_yaml_with_report(json_filename, yaml_filename):\n",
        "    try:\n",
        "        if file_exists(json_filename) and validate_json(json_filename):\n",
        "            json_data = read_json(json_filename)\n",
        "            write_yaml(yaml_filename, json_data)\n",
        "            report = {\n",
        "                \"json_filename\": json_filename,\n",
        "                \"yaml_filename\": yaml_filename,\n",
        "                \"num_records\": len(json_data),\n",
        "                \"status\": \"success\"\n",
        "            }\n",
        "            print(f\"JSON to YAML conversion report:\\n{report}\")\n",
        "        else:\n",
        "            print(f\"Error: File '{json_filename}' does not exist or is not a valid JSON file.\")\n",
        "    except Exception as e:\n",
        "        print(f\"Error: {e}\")\n",
        "        report = {\n",
        "            \"json_filename\": json_filename,\n",
        "            \"yaml_filename\": yaml_filename,\n",
        "            \"num_records\": 0,\n",
        "            \"status\": \"failed\"\n",
        "        }\n",
        "        print(f\"JSON to YAML conversion report:\\n{report}\")\n",
        "\n",
        "# Example usage\n",
        "json_filename = \"my_json_file.json\"\n",
        "yaml_filename = \"my_yaml_file.yaml\"\n",
        "\n",
        "json_to_yaml_with_report(json_filename, yaml_filename)"
      ],
      "metadata": {
        "colab": {
          "base_uri": "https://localhost:8080/"
        },
        "id": "1zS7wUP93Ekg",
        "outputId": "ce087c9f-fe35-4b8e-a839-36107cc9c740"
      },
      "execution_count": null,
      "outputs": [
        {
          "output_type": "stream",
          "name": "stdout",
          "text": [
            "Error: File 'my_json_file.json' does not exist or is not a valid JSON file.\n"
          ]
        }
      ]
    },
    {
      "cell_type": "code",
      "source": [
        "import os\n",
        "import json\n",
        "import yaml\n",
        "from jinja2 import Template\n",
        "\n",
        "# Define the function to check if a file exists\n",
        "def file_exists(filename):\n",
        "    return os.path.isfile(filename)\n",
        "\n",
        "# Define the function to read a JSON file\n",
        "def read_json(filename):\n",
        "    with open(filename, \"r\") as f:\n",
        "        return json.load(f)\n",
        "\n",
        "# Define the function to write a YAML file\n",
        "def write_yaml(filename, data):\n",
        "    with open(filename, \"w\") as f:\n",
        "        yaml.dump(data, f)\n",
        "\n",
        "# Define the function to validate the JSON file format\n",
        "def validate_json(filename):\n",
        "    try:\n",
        "        json_data = read_json(filename)\n",
        "        return True\n",
        "    except json.decoder.JSONDecodeError:\n",
        "        return False\n",
        "\n",
        "# Define the function to convert a JSON file to a YAML file with a report\n",
        "def json_to_yaml_with_report(json_filename, yaml_filename):\n",
        "    try:\n",
        "        if file_exists(json_filename) and validate_json(json_filename):\n",
        "            json_data = read_json(json_filename)\n",
        "            write_yaml(yaml_filename, json_data)\n",
        "            report = {\n",
        "                \"json_filename\": json_filename,\n",
        "                \"yaml_filename\": yaml_filename,\n",
        "                \"num_records\": len(json_data),\n",
        "                \"status\": \"success\"\n",
        "            }\n",
        "            template = Template(\"\"\"\n",
        "            <html>\n",
        "            <head>\n",
        "                <title>JSON to YAML Conversion Report</title>\n",
        "            </head>\n",
        "            <body>\n",
        "                <h1>JSON to YAML Conversion Report</h1>\n",
        "                <ul>\n",
        "                    <li>JSON File: {{ report.json_filename }}</li>\n",
        "                    <li>YAML File: {{ report.yaml_filename }}</li>\n",
        "                    <li>Number of Records: {{ report.num_records }}</li>\n",
        "                    <li>Status: {{ report.status }}</li>\n",
        "                </ul>\n",
        "            </body>\n",
        "            </html>\n",
        "            \"\"\")\n",
        "            html_report = template.render(report=report)\n",
        "            with open(\"report.html\", \"w\") as f:\n",
        "                f.write(html_report)\n",
        "            print(\"HTML report generated successfully.\")\n",
        "        else:\n",
        "            print(f\"Error: File '{json_filename}' does not exist or is not a valid JSON file.\")\n",
        "    except Exception as e:\n",
        "        print(f\"Error: {e}\")\n",
        "        report = {\n",
        "            \"json_filename\": json_filename,\n",
        "            \"yaml_filename\": yaml_filename,\n",
        "            \"num_records\": 0,\n",
        "            \"status\": \"failed\"\n",
        "        }\n",
        "        template = Template(\"\"\"\n",
        "        <html>\n",
        "        <head>\n",
        "            <title>JSON to YAML Conversion Report</title>\n",
        "        </head>\n",
        "        <body>\n",
        "            <h1>JSON to YAML Conversion Report</h1>\n",
        "            <ul>\n",
        "                <li>JSON File: {{ report.json_filename }}</li>\n",
        "                <li>YAML File: {{ report.yaml_filename }}</li>\n",
        "                <li>Number of Records: {{ report.num_records }}</li>\n",
        "                <li>Status: {{ report.status }}</li>\n",
        "            </ul>\n",
        "        </body>\n",
        "        </html>\n",
        "        \"\"\")\n",
        "        html_report = template.render(report=report)\n",
        "        with open(\"report.html\", \"w\") as f:\n",
        "            f.write(html_report)\n",
        "        print(\"HTML report generated successfully.\")\n",
        "\n",
        "# Example usage\n",
        "json_filename = \"my_json_file.json\"\n",
        "yaml_filename = \"my_yaml_file.yaml\"\n",
        "\n",
        "json_to_yaml_with_report(json_filename, yaml_filename)"
      ],
      "metadata": {
        "colab": {
          "base_uri": "https://localhost:8080/"
        },
        "id": "6A9l4ZKN3YXy",
        "outputId": "adfe7394-78c9-4241-e4a3-79814f9a785d"
      },
      "execution_count": null,
      "outputs": [
        {
          "output_type": "stream",
          "name": "stdout",
          "text": [
            "Error: File 'my_json_file.json' does not exist or is not a valid JSON file.\n"
          ]
        }
      ]
    },
    {
      "cell_type": "code",
      "source": [
        "import os\n",
        "import json\n",
        "import yaml\n",
        "from jinja2 import Template\n",
        "import smtplib\n",
        "\n",
        "# Define the function to check if a file exists\n",
        "def file_exists(filename):\n",
        "    return os.path.isfile(filename)\n",
        "\n",
        "# Define the function to read a JSON file\n",
        "def read_json(filename):\n",
        "    with open(filename, \"r\") as f:\n",
        "        return json.load(f)\n",
        "\n",
        "# Define the function to write a YAML file\n",
        "def write_yaml(filename, data):\n",
        "    with open(filename, \"w\") as f:\n",
        "        yaml.dump(data, f)\n",
        "\n",
        "# Define the function to validate the JSON file format\n",
        "def validate_json(filename):\n",
        "    try:\n",
        "        json_data = read_json(filename)\n",
        "        return True\n",
        "    except json.decoder.JSONDecodeError:\n",
        "        return False\n",
        "\n",
        "# Define the function to convert a JSON file to a YAML file with a report\n",
        "def json_to_yaml_with_report(json_filename, yaml_filename):\n",
        "    try:\n",
        "        if file_exists(json_filename) and validate_json(json_filename):\n",
        "            json_data = read_json(json_filename)\n",
        "            write_yaml(yaml_filename, json_data)\n",
        "            report = {\n",
        "                \"json_filename\": json_filename,\n",
        "                \"yaml_filename\": yaml_filename,\n",
        "                \"num_records\": len(json_data),\n",
        "                \"status\": \"success\"\n",
        "            }\n",
        "            template = Template(\"\"\"\n",
        "\n",
        "\n",
        "\n",
        "\n",
        "\n",
        "                JSON to YAML Conversion Report\n",
        "\n",
        "                    JSON File: {{ report.json_filename }}\n",
        "                    YAML File: {{ report.yaml_filename }}\n",
        "                    Number of Records: {{ report.num_records }}\n",
        "                    Status: {{ report.status }}\n",
        "\n",
        "\n",
        "\n",
        "            \"\"\")\n",
        "            html_report = template.render(report=report)\n",
        "            with open(\"report.html\", \"w\") as f:\n",
        "                f.write(html_report)\n",
        "            print(\"HTML report generated successfully.\")\n",
        "\n",
        "            # Send the HTML report via email\n",
        "            sender_email = \"sender@example.com\"\n",
        "            sender_password = \"sender_password\"\n",
        "            receiver_email = \"receiver@example.com\"\n",
        "            subject = \"JSON to YAML Conversion Report\"\n",
        "\n",
        "            message = \"\"\"From: {}\n",
        "To: {}\n",
        "Subject: {}\n",
        "\n",
        "{}\"\"\".format(sender_email, receiver_email, subject, html_report)\n",
        "\n",
        "            smtp_server = \"smtp.example.com\"\n",
        "            smtp_port = 587\n",
        "\n",
        "            smtp = smtplib.SMTP(smtp_server, smtp_port)\n",
        "            smtp.starttls()\n",
        "            smtp.login(sender_email, sender_password)\n",
        "            smtp.sendmail(sender_email, receiver_email, message)\n",
        "            smtp.quit()\n",
        "\n",
        "            print(\"HTML report sent via email successfully.\")\n",
        "        else:\n",
        "            print(f\"Error: File '{json_filename}' does not exist or is not a valid JSON file.\")\n",
        "    except Exception as e:\n",
        "        print(f\"Error: {e}\")\n",
        "        report = {\n",
        "            \"json_filename\": json_filename,\n",
        "            \"yaml_filename\": yaml_filename,\n",
        "            \"num_records\": 0,\n",
        "            \"status\": \"failed\"\n",
        "        }\n",
        "        template = Template(\"\"\"\n",
        "\n",
        "\n",
        "\n",
        "\n",
        "\n",
        "            JSON to YAML Conversion Report\n",
        "\n",
        "                JSON File: {{ report.json_filename }}\n",
        "                YAML File: {{ report.yaml_filename }}\n",
        "                Number of Records: {{ report.num_records }}\n",
        "                Status: {{ report.status }}\n",
        "\n",
        "\n",
        "\n",
        "        \"\"\")\n",
        "        html_report = template.render(report=report)\n",
        "        with open(\"report.html\", \"w\") as f:\n",
        "            f.write(html_report)\n",
        "        print(\"HTML report generated successfully.\")\n",
        "\n",
        "        # Send the HTML report via email\n",
        "        sender_email = \"sender@example.com\"\n",
        "        sender_password = \"sender_password\"\n",
        "        receiver_email = \"receiver@example.com\"\n",
        "        subject = \"JSON to YAML Conversion Report\"\n",
        "\n",
        "        message = \"\"\"From: {}\n",
        "To: {}\n",
        "Subject: {}\n",
        "\n",
        "{}\"\"\".format(sender_email, receiver_email, subject, html_report)\n",
        "\n",
        "        smtp_server = \"smtp.example.com\"\n",
        "        smtp_port = 587\n",
        "\n",
        "        smtp = smtplib.SMTP(smtp_server, smtp_port)\n",
        "        smtp.starttls()\n",
        "        smtp.login(sender_email, sender_password)\n",
        "        smtp.sendmail(sender_email, receiver_email, message)\n",
        "        smtp.quit()\n",
        "\n",
        "        print(\"HTML report sent via email successfully.\")\n",
        "\n",
        "# Example usage\n",
        "json_filename = \"my_json_file.json\"\n",
        "yaml_filename = \"my_yaml_file.yaml\"\n",
        "\n",
        "json_to_yaml_with_report(json_filename, yaml_filename)"
      ],
      "metadata": {
        "colab": {
          "base_uri": "https://localhost:8080/"
        },
        "id": "Zw8mtznp3vEc",
        "outputId": "4e46147c-8ce6-47e3-abc3-e78679b97809"
      },
      "execution_count": null,
      "outputs": [
        {
          "output_type": "stream",
          "name": "stdout",
          "text": [
            "Error: File 'my_json_file.json' does not exist or is not a valid JSON file.\n"
          ]
        }
      ]
    },
    {
      "cell_type": "code",
      "source": [
        "!pip install apscheduler"
      ],
      "metadata": {
        "colab": {
          "base_uri": "https://localhost:8080/"
        },
        "id": "qVotxdCr6Z8e",
        "outputId": "bb9c6fff-2998-4f5a-f90a-623921ad51ef"
      },
      "execution_count": null,
      "outputs": [
        {
          "output_type": "stream",
          "name": "stdout",
          "text": [
            "Requirement already satisfied: apscheduler in /usr/local/lib/python3.10/dist-packages (3.10.4)\n",
            "Requirement already satisfied: six>=1.4.0 in /usr/local/lib/python3.10/dist-packages (from apscheduler) (1.16.0)\n",
            "Requirement already satisfied: pytz in /usr/local/lib/python3.10/dist-packages (from apscheduler) (2023.4)\n",
            "Requirement already satisfied: tzlocal!=3.*,>=2.0 in /usr/local/lib/python3.10/dist-packages (from apscheduler) (5.2)\n"
          ]
        }
      ]
    },
    {
      "cell_type": "code",
      "source": [
        "# Import the necessary libraries\n",
        "from apscheduler.schedulers.blocking import BlockingScheduler\n",
        "from jinja2 import Template\n",
        "import smtplib\n",
        "import os\n",
        "import json\n",
        "import yaml\n",
        "\n",
        "# Define the function to check if a file exists\n",
        "def file_exists(filename):\n",
        "    return os.path.isfile(filename)\n",
        "\n",
        "def read_json():\n",
        "    with open(\"my_yaml_file.yaml\", \"r\") as f:\n",
        "        return json.load(f)\n",
        "\n",
        "# Define the function to write a YAML file\n",
        "def write_yaml(filename, data):\n",
        "    with open(filename, \"w\") as f:\n",
        "        yaml.dump(data, f)\n",
        "\n",
        "# Define the function to validate the JSON file format\n",
        "def validate_json(filename):\n",
        "    try:\n",
        "        json_data = read_json(filename)\n",
        "        return True\n",
        "    except json.decoder.JSONDecodeError:\n",
        "        return False\n",
        "\n",
        "# Define the function to convert a JSON file to a YAML file with a report and send it via email\n",
        "def json_to_yaml_with_report_and_email(json_filename, yaml_filename):\n",
        "    try:\n",
        "        if file_exists(json_filename) and validate_json(json_filename):\n",
        "            json_data = read_json(json_filename)\n",
        "            write_yaml(yaml_filename, json_data)\n",
        "            report = {\n",
        "                \"json_filename\": TXT_PARA_EXTRAIR_PAGINAS_DO_EDITAL,\n",
        "                \"yaml_filename\": MY_YAML_FILE + \".yaml\",\n",
        "                \"num_records\": len(json_data),\n",
        "                \"status\": \"success\"\n",
        "            }\n",
        "            template = Template(\"\"\"\n",
        "\n",
        "\n",
        "\n",
        "\n",
        "\n",
        "                JSON to YAML Conversion Report\n",
        "\n",
        "                    JSON File: {{ report.json_filename }}\n",
        "                    YAML File: {{ report.yaml_filename }}\n",
        "                    Number of Records: {{ report.num_records }}\n",
        "                    Status: {{ report.status }}\n",
        "\n",
        "\n",
        "\n",
        "            \"\"\")\n",
        "            html_report = template.render(report=report)\n",
        "            with open(\"report.html\", \"w\") as f:\n",
        "                f.write(html_report)\n",
        "            print(\"HTML report generated successfully.\")\n",
        "\n",
        "            # Send the HTML report via email\n",
        "            sender_email = \"sender@example.com\"\n",
        "            sender_password = \"sender_password\"\n",
        "            receiver_email = \"receiver@example.com\"\n",
        "            subject = \"JSON to YAML Conversion Report\"\n",
        "\n",
        "            message = \"\"\"From: {}\n",
        "To: {}\n",
        "Subject: {}\n",
        "\n",
        "{}\"\"\".format(sender_email, receiver_email, subject, html_report)\n",
        "\n",
        "            smtp_server = \"smtp.example.com\"\n",
        "            smtp_port = 587\n",
        "\n",
        "            smtp = smtplib.SMTP(smtp_server, smtp_port)\n",
        "            smtp.starttls()\n",
        "            smtp.login(sender_email, sender_password)\n",
        "            smtp.sendmail(sender_email, receiver_email, message)\n",
        "            smtp.quit()\n",
        "\n",
        "            print(\"HTML report sent via email successfully.\")\n",
        "        else:\n",
        "            print(f\"Error: File '{json_filename}' does not exist or is not a valid JSON file.\")\n",
        "    except Exception as e:\n",
        "        print(f\"Error: {e}\")\n",
        "        report = {\n",
        "            \"json_filename\": json_filename,\n",
        "            \"yaml_filename\": yaml_filename,\n",
        "            \"num_records\": 0,\n",
        "            \"status\": \"failed\"\n",
        "        }\n",
        "        template = Template(\"\"\"\n",
        "\n",
        "\n",
        "\n",
        "\n",
        "\n",
        "            JSON to YAML Conversion Report\n",
        "\n",
        "                JSON File: {{ report.json_filename }}\n",
        "                YAML File: {{ report.yaml_filename }}\n",
        "                Number of Records: {{ report.num_records }}\n",
        "                Status: {{ report.status }}\n",
        "\n",
        "\n",
        "\n",
        "        \"\"\")\n",
        "        html_report = template.render(report=report)\n",
        "        with open(\"report.html\", \"w\") as f:\n",
        "            f.write(html_report)\n",
        "        print(\"HTML report generated successfully.\")\n",
        "\n",
        "        # Send the HTML report via email\n",
        "        sender_email = \"sender@example.com\"\n",
        "        sender_password = \"sender_password\"\n",
        "        receiver_email = \"receiver@example.com\"\n",
        "        subject = \"JSON to YAML Conversion Report\"\n",
        "\n",
        "        message = \"\"\"From: {}\n",
        "To: {}\n",
        "Subject: {}\n",
        "\n",
        "{}\"\"\".format(sender_email, receiver_email, subject, html_report)\n",
        "\n",
        "        smtp_server = \"smtp.example.com\"\n",
        "        smtp_port = 587\n",
        "\n",
        "        smtp = smtplib.SMTP(smtp_server, smtp_port)\n",
        "        smtp.starttls()\n",
        "        smtp.login(sender_email, sender_password)\n",
        "        smtp.sendmail(sender_email, receiver_email, message)\n",
        "        smtp.quit()\n",
        "\n",
        "        print(\"HTML report sent via email successfully.\")"
      ],
      "metadata": {
        "id": "wbo1BikL4E9I"
      },
      "execution_count": null,
      "outputs": []
    },
    {
      "cell_type": "code",
      "source": [
        "# prompt:\n",
        "\n",
        "!gsutil cp gs://bucket-name/to_upload.txt /tmp/to_upload.txt\n"
      ],
      "metadata": {
        "colab": {
          "base_uri": "https://localhost:8080/"
        },
        "id": "7FgaEf7SASIa",
        "outputId": "7a2552c9-d47a-49c4-c38a-711ca798533e"
      },
      "execution_count": null,
      "outputs": [
        {
          "output_type": "stream",
          "name": "stdout",
          "text": [
            "ServiceException: 401 Anonymous caller does not have storage.objects.get access to the Google Cloud Storage object. Permission 'storage.objects.get' denied on resource (or it may not exist).\n"
          ]
        }
      ]
    },
    {
      "cell_type": "code",
      "source": [
        "# prompt:\n",
        "\n",
        "!gsutil cp gs://bucket-name/to_upload.txt /tmp/to_upload.txt\n"
      ],
      "metadata": {
        "colab": {
          "base_uri": "https://localhost:8080/"
        },
        "id": "FWBC_6yICIkp",
        "outputId": "45b72bf0-0641-415c-b8d6-878ae30c6a93"
      },
      "execution_count": null,
      "outputs": [
        {
          "output_type": "stream",
          "name": "stdout",
          "text": [
            "ServiceException: 401 Anonymous caller does not have storage.objects.get access to the Google Cloud Storage object. Permission 'storage.objects.get' denied on resource (or it may not exist).\n"
          ]
        }
      ]
    },
    {
      "cell_type": "code",
      "source": [
        "# prompt:\n",
        "\n",
        "!gsutil cp /tmp/to_upload.txt gs://bucket-name/to_upload.txt\n"
      ],
      "metadata": {
        "colab": {
          "base_uri": "https://localhost:8080/"
        },
        "id": "3CqHQmyqCNAA",
        "outputId": "24c5f5d8-3e79-4826-c918-f4fd563e1c45"
      },
      "execution_count": null,
      "outputs": [
        {
          "output_type": "stream",
          "name": "stdout",
          "text": [
            "ServiceException: 401 Anonymous caller does not have storage.objects.list access to the Google Cloud Storage bucket. Permission 'storage.objects.list' denied on resource (or it may not exist).\n"
          ]
        }
      ]
    },
    {
      "cell_type": "code",
      "source": [
        "# prompt:\n",
        "\n",
        "!gsutil cp /tmp/to_upload.txt gs://bucket-name/to_upload.txt\n"
      ],
      "metadata": {
        "colab": {
          "base_uri": "https://localhost:8080/"
        },
        "id": "gBp_r6I2CUk7",
        "outputId": "146db1d3-532d-42a5-ee32-a1d7a84f03e9"
      },
      "execution_count": null,
      "outputs": [
        {
          "output_type": "stream",
          "name": "stdout",
          "text": [
            "ServiceException: 401 Anonymous caller does not have storage.objects.list access to the Google Cloud Storage bucket. Permission 'storage.objects.list' denied on resource (or it may not exist).\n"
          ]
        }
      ]
    },
    {
      "cell_type": "code",
      "source": [
        "# prompt:\n",
        "\n",
        "!gsutil cp /tmp/to_upload.txt gs://bucket-name/to_upload.txt\n"
      ],
      "metadata": {
        "colab": {
          "base_uri": "https://localhost:8080/"
        },
        "id": "BXAU34MZCgem",
        "outputId": "5df56876-f23f-4a16-995a-9e19f05e83c4"
      },
      "execution_count": null,
      "outputs": [
        {
          "output_type": "stream",
          "name": "stdout",
          "text": [
            "ServiceException: 401 Anonymous caller does not have storage.objects.list access to the Google Cloud Storage bucket. Permission 'storage.objects.list' denied on resource (or it may not exist).\n"
          ]
        }
      ]
    },
    {
      "cell_type": "code",
      "source": [
        "import os\n",
        "import json\n",
        "import yaml\n",
        "\n",
        "# Define the function to check if a file exists\n",
        "def file_exists(filename):\n",
        "    return os.path.isfile(filename)\n",
        "\n",
        "# Define the function to read a JSON file\n",
        "def read_json(filename):\n",
        "    with open(filename, \"r\") as f:\n",
        "        return json.load(f)\n",
        "\n",
        "# Define the function to write a YAML file\n",
        "def write_yaml(filename, data):\n",
        "    with open(filename, \"w\") as f:\n",
        "        yaml.dump(data, f)\n",
        "\n",
        "# Define the function to convert a JSON file to a YAML file\n",
        "def json_to_yaml(json_filename, yaml_filename):\n",
        "    if file_exists(json_filename):\n",
        "        json_data = read_json(json_filename)\n",
        "        write_yaml(yaml_filename, json_data)\n",
        "    else:\n",
        "        print(f\"Error: File '{json_filename}' does not exist.\")"
      ],
      "metadata": {
        "id": "v8lafCz_CqHC"
      },
      "execution_count": null,
      "outputs": []
    },
    {
      "cell_type": "code",
      "source": [
        "from jinja2 import Template\n",
        "\n",
        "# Define the function to generate an HTML report\n",
        "def generate_html_report(json_filename, yaml_filename):\n",
        "    report = {\n",
        "        \"json_filename\": json_filename,\n",
        "        \"yaml_filename\": yaml_filename,\n",
        "        \"num_records\": len(read_json(json_filename)),\n",
        "        \"status\": \"success\"\n",
        "    }\n",
        "    template = Template(\"\"\"\n",
        "\n",
        "\n",
        "\n",
        "\n",
        "\n",
        "        JSON to YAML Conversion Report\n",
        "\n",
        "            JSON File: {{ report.json_filename }}\n",
        "            YAML File: {{ report.yaml_filename }}\n",
        "            Number of Records: {{ report.num_records }}\n",
        "            Status: {{ report.status }}\n",
        "\n",
        "\n",
        "\n",
        "    \"\"\")\n",
        "    html_report = template.render(report=report)\n",
        "    with open(\"report.html\", \"w\") as f:\n",
        "        f.write(html_report)"
      ],
      "metadata": {
        "id": "M5JxJAxOD74y"
      },
      "execution_count": null,
      "outputs": []
    },
    {
      "cell_type": "code",
      "source": [
        "import smtplib\n",
        "\n",
        "# Define the function to send an email\n",
        "def send_email(sender_email, sender_password, receiver_email, subject, html_report):\n",
        "    message = \"\"\"From: {}\n",
        "To: {}\n",
        "Subject: {}\n",
        "\n",
        "{}\"\"\".format(sender_email, receiver_email, subject, html_report)\n",
        "\n",
        "    smtp_server = \"smtp.example.com\"\n",
        "    smtp_port = 587\n",
        "\n",
        "    smtp = smtplib.SMTP(smtp_server, smtp_port)\n",
        "    smtp.starttls()\n",
        "    smtp.login(sender_email, sender_password)\n",
        "    smtp.sendmail(sender_email, receiver_email, message)\n",
        "    smtp.quit()"
      ],
      "metadata": {
        "id": "E8OZ6iWiD9s3"
      },
      "execution_count": null,
      "outputs": []
    },
    {
      "cell_type": "code",
      "source": [
        "from apscheduler.schedulers.blocking import BlockingScheduler\n",
        "\n",
        "# Define the function to schedule the task\n",
        "def schedule_task(json_filename, yaml_filename):\n",
        "    scheduler = BlockingScheduler()\n",
        "    scheduler.add_job(json_to_yaml, 'cron', args=[json_filename, yaml_filename], hour=8)\n",
        "    scheduler.add_job(generate_html_report, 'cron', args=[json_filename, yaml_filename], hour=8)\n",
        "    scheduler.add_job(send_email, 'cron', args=['sender@example.com', 'sender_password', 'receiver@example.com', 'JSON to YAML Conversion Report', 'report.html'], hour=8)\n",
        "    scheduler.start()"
      ],
      "metadata": {
        "id": "0GXcjIxOED0p"
      },
      "execution_count": null,
      "outputs": []
    },
    {
      "cell_type": "code",
      "source": [
        "!pip install reportlab"
      ],
      "metadata": {
        "colab": {
          "base_uri": "https://localhost:8080/"
        },
        "id": "pJvBSU4yGOPQ",
        "outputId": "dd953844-e464-4ada-ef19-39ec62b3624d"
      },
      "execution_count": null,
      "outputs": [
        {
          "output_type": "stream",
          "name": "stdout",
          "text": [
            "Requirement already satisfied: reportlab in /usr/local/lib/python3.10/dist-packages (4.2.0)\n",
            "Requirement already satisfied: pillow>=9.0.0 in /usr/local/lib/python3.10/dist-packages (from reportlab) (9.4.0)\n",
            "Requirement already satisfied: chardet in /usr/local/lib/python3.10/dist-packages (from reportlab) (5.2.0)\n"
          ]
        }
      ]
    },
    {
      "cell_type": "code",
      "source": [
        "# prompt: Adicionar uma funcionalidade para gerar um relatório em formato PDF usando uma biblioteca de terceiros, como o reportlab\n",
        "\n",
        "from reportlab.pdfgen import canvas\n",
        "from reportlab.lib.pagesizes import A4\n",
        "\n",
        "def generate_pdf_report(json_filename, yaml_filename):\n",
        "  # Read the JSON data\n",
        "  with open(json_filename, \"r\") as f:\n",
        "    json_data = json.load(f)\n",
        "\n",
        "  # Create a PDF canvas\n",
        "  pdf = canvas.Canvas(\"report.pdf\", pagesize=A4)\n",
        "\n",
        "  # Add the report title\n",
        "  pdf.drawString(100, 750, \"JSON to YAML Conversion Report\")\n",
        "\n",
        "  # Add the JSON file name\n",
        "  pdf.drawString(100, 730, f\"JSON File: {json_filename}\")\n",
        "\n",
        "  # Add the YAML file name\n",
        "  pdf.drawString(100, 710, f\"YAML File: {yaml_filename}\")\n",
        "\n",
        "  # Add the number of records\n",
        "  pdf.drawString(100, 690, f\"Number of Records: {len(json_data)}\")\n",
        "\n",
        "  # Add the status\n",
        "  pdf.drawString(100, 670, f\"Status: success\")\n",
        "\n",
        "  # Save the PDF report\n",
        "  pdf.save()\n"
      ],
      "metadata": {
        "id": "bnIxLE3CEXEY"
      },
      "execution_count": null,
      "outputs": []
    },
    {
      "cell_type": "code",
      "source": [
        "# prompt: Adicionar uma funcionalidade para gerar um relatório em formato CSV usando uma biblioteca de terceiros, como o csv\n",
        "\n",
        "import csv\n",
        "\n",
        "def generate_csv_report(json_filename, csv_filename):\n",
        "  # Read the JSON data\n",
        "  with open(json_filename, \"r\") as f:\n",
        "    json_data = json.load(f)\n",
        "\n",
        "  # Create a CSV file\n",
        "  with open(csv_filename, \"w\", newline=\"\") as f:\n",
        "    writer = csv.writer(f)\n",
        "\n",
        "    # Write the header row\n",
        "    writer.writerow([\"JSON File\", \"YAML File\", \"Number of Records\", \"Status\"])\n",
        "\n",
        "    # Write the data rows\n",
        "    writer.writerow([\n",
        "      json_filename,\n",
        "      yaml_filename,\n",
        "      len(json_data),\n",
        "      \"success\"\n",
        "    ])\n"
      ],
      "metadata": {
        "id": "zxPaNm7fGofA"
      },
      "execution_count": null,
      "outputs": []
    },
    {
      "cell_type": "code",
      "source": [
        "# prompt: definir a função gerar_e_prever\n",
        "\n",
        "def gerar_e_prever(dados_treino, dados_teste, colunas_numericas, colunas_categoricas):\n",
        "  # Pré-processamento dos dados\n",
        "  dados_treino = preparar_dados(dados_treino, colunas_numericas, colunas_categoricas)\n",
        "  dados_teste = preparar_dados(dados_teste, colunas_numericas, colunas_categoricas)\n",
        "\n",
        "  # Separação das variáveis dependentes e independentes\n",
        "  x_treino, y_treino = separar_variaveis(dados_treino)\n",
        "  x_teste, y_teste = separar_variaveis(dados_teste)\n",
        "\n",
        "  # Treinamento do modelo\n",
        "  modelo = treinar_modelo(x_treino, y_treino)\n",
        "\n",
        "  # Previsões\n",
        "  previsoes = modelo.predict(x_teste)\n",
        "\n",
        "  # Avaliação do modelo\n",
        "  acuracia = avaliar_modelo(y_teste, previsoes)\n",
        "\n",
        "  # Retorno dos resultados\n",
        "  return acuracia, previsoes\n"
      ],
      "metadata": {
        "id": "pltSvAAfICCa"
      },
      "execution_count": null,
      "outputs": []
    },
    {
      "cell_type": "code",
      "source": [
        "# prompt: Gerar mais prompts e prever sua relevância\n",
        "\n",
        "def gerar_e_prever_mais_prompts(dados_treino, dados_teste, colunas_numericas, colunas_categoricas, quantidade):\n",
        "  # Pré-processamento dos dados\n",
        "  dados_treino = preparar_dados(dados_treino, colunas_numericas, colunas_categoricas)\n",
        "  dados_teste = preparar_dados(dados_teste, colunas_numericas, colunas_categoricas)\n",
        "\n",
        "  # Separação das variáveis dependentes e independentes\n",
        "  x_treino, y_treino = separar_variaveis(dados_treino)\n",
        "  x_teste, y_teste = separar_variaveis(dados_teste)\n",
        "\n",
        "  # Treinamento do modelo\n",
        "  modelo = treinar_modelo(x_treino, y_treino)\n",
        "\n",
        "  # Geração de mais prompts\n",
        "  novos_prompts = gerar_novos_prompts(quantidade)\n",
        "\n",
        "  # Pré-processamento dos novos prompts\n",
        "  novos_prompts_preparados = preparar_dados(novos_prompts, colunas_numericas, colunas_categoricas)\n",
        "\n",
        "  # Previsões\n",
        "  previsoes = modelo.predict(novos_prompts_preparados)\n",
        "\n",
        "  # Retorno dos resultados\n",
        "  return previsoes\n",
        "\n"
      ],
      "metadata": {
        "id": "qD2aM_HCIoou"
      },
      "execution_count": null,
      "outputs": []
    },
    {
      "cell_type": "code",
      "source": [
        "# prompt: O erro ocorre porque o Tkinter requer uma tela gráfica para funcionar, mas seu ambiente atual não tem uma tela gráfica disponível. Isso pode acontecer se você estiver executando o código em um servidor ou em um ambiente sem cabeça.\n",
        "# Para corrigir o erro, você pode usar o módulo xvfb para criar uma tela virtual.\n",
        "\n",
        "!apt-get install -y xvfb\n",
        "!pip install pyvirtualdisplay\n",
        "\n",
        "from pyvirtualdisplay import Display\n",
        "display = Display(visible=0, size=(1024, 768))\n",
        "display.start()\n",
        "\n",
        "# Your Tkinter code here\n",
        "\n",
        "display.stop()\n"
      ],
      "metadata": {
        "colab": {
          "base_uri": "https://localhost:8080/"
        },
        "id": "OFJRI4VKJhhZ",
        "outputId": "f6ea69fb-9c7c-4e2a-a938-889a12c821c7"
      },
      "execution_count": null,
      "outputs": [
        {
          "output_type": "stream",
          "name": "stdout",
          "text": [
            "Reading package lists... Done\n",
            "Building dependency tree... Done\n",
            "Reading state information... Done\n",
            "xvfb is already the newest version (2:21.1.4-2ubuntu1.7~22.04.10).\n",
            "0 upgraded, 0 newly installed, 0 to remove and 45 not upgraded.\n",
            "Requirement already satisfied: pyvirtualdisplay in /usr/local/lib/python3.10/dist-packages (3.0)\n"
          ]
        },
        {
          "output_type": "execute_result",
          "data": {
            "text/plain": [
              "<pyvirtualdisplay.display.Display at 0x7fef75e3e050>"
            ]
          },
          "metadata": {},
          "execution_count": 80
        }
      ]
    },
    {
      "cell_type": "code",
      "source": [
        "!apt-get install -y xvfb\n",
        "!pip install pyvirtualdisplay"
      ],
      "metadata": {
        "colab": {
          "base_uri": "https://localhost:8080/"
        },
        "id": "YBu_wkn3LCQe",
        "outputId": "2817c7f0-7930-4777-bb1c-2607fc8b1baa"
      },
      "execution_count": null,
      "outputs": [
        {
          "output_type": "stream",
          "name": "stdout",
          "text": [
            "Reading package lists... Done\n",
            "Building dependency tree... Done\n",
            "Reading state information... Done\n",
            "xvfb is already the newest version (2:21.1.4-2ubuntu1.7~22.04.10).\n",
            "0 upgraded, 0 newly installed, 0 to remove and 45 not upgraded.\n",
            "Requirement already satisfied: pyvirtualdisplay in /usr/local/lib/python3.10/dist-packages (3.0)\n"
          ]
        }
      ]
    },
    {
      "cell_type": "code",
      "source": [
        "from pyvirtualdisplay import Display\n",
        "\n",
        "display = Display(visible=0, size=(1024, 768))\n",
        "display.start()"
      ],
      "metadata": {
        "colab": {
          "base_uri": "https://localhost:8080/"
        },
        "id": "NkGIQ1eLM2U4",
        "outputId": "5ab8a285-d0ca-44ba-b208-d8bc760df4dd"
      },
      "execution_count": null,
      "outputs": [
        {
          "output_type": "execute_result",
          "data": {
            "text/plain": [
              "<pyvirtualdisplay.display.Display at 0x7fef75e3d570>"
            ]
          },
          "metadata": {},
          "execution_count": 82
        }
      ]
    },
    {
      "cell_type": "code",
      "source": [
        "import tkinter as tk"
      ],
      "metadata": {
        "id": "CGeDt25WM8F4"
      },
      "execution_count": null,
      "outputs": []
    },
    {
      "cell_type": "code",
      "source": [
        "!apt-get install -y xvfb\n",
        "!pip install pyvirtualdisplay\n",
        "\n",
        "from pyvirtualdisplay import Display\n",
        "\n",
        "display = Display(visible=0, size=(1024, 768))\n",
        "display.start()\n",
        "\n",
        "import tkinter as tk\n",
        "\n",
        "# Your Tkinter code here\n",
        "\n",
        "display.stop()"
      ],
      "metadata": {
        "colab": {
          "base_uri": "https://localhost:8080/"
        },
        "id": "A0n0OT-2NTY2",
        "outputId": "2cc13f8b-e050-4cc3-d482-544745dc9b25"
      },
      "execution_count": null,
      "outputs": [
        {
          "output_type": "stream",
          "name": "stdout",
          "text": [
            "Reading package lists... Done\n",
            "Building dependency tree... Done\n",
            "Reading state information... Done\n",
            "xvfb is already the newest version (2:21.1.4-2ubuntu1.7~22.04.10).\n",
            "0 upgraded, 0 newly installed, 0 to remove and 45 not upgraded.\n",
            "Requirement already satisfied: pyvirtualdisplay in /usr/local/lib/python3.10/dist-packages (3.0)\n"
          ]
        },
        {
          "output_type": "execute_result",
          "data": {
            "text/plain": [
              "<pyvirtualdisplay.display.Display at 0x7fef75ee4d60>"
            ]
          },
          "metadata": {},
          "execution_count": 84
        }
      ]
    },
    {
      "cell_type": "code",
      "source": [
        "from tkinter import *\n",
        "from pyvirtualdisplay import Display"
      ],
      "metadata": {
        "id": "wQPXqVjoOp9N"
      },
      "execution_count": null,
      "outputs": []
    },
    {
      "cell_type": "code",
      "source": [
        "display = Display(visible=0, size=(1024, 768))\n",
        "display.start()"
      ],
      "metadata": {
        "colab": {
          "base_uri": "https://localhost:8080/"
        },
        "id": "krjoZ-pmPzE_",
        "outputId": "768a8fd5-dc50-48d1-a82d-f26fe719f591"
      },
      "execution_count": null,
      "outputs": [
        {
          "output_type": "execute_result",
          "data": {
            "text/plain": [
              "<pyvirtualdisplay.display.Display at 0x7fef75cc8730>"
            ]
          },
          "metadata": {},
          "execution_count": 86
        }
      ]
    },
    {
      "cell_type": "code",
      "source": [
        "root = Tk()"
      ],
      "metadata": {
        "id": "psMh0QEnP34l"
      },
      "execution_count": null,
      "outputs": []
    },
    {
      "cell_type": "code",
      "source": [
        "label = Label(root, text=\"Hello, world!\")\n",
        "label.pack()"
      ],
      "metadata": {
        "id": "pZOE5h1yP6ok"
      },
      "execution_count": null,
      "outputs": []
    },
    {
      "cell_type": "code",
      "source": [
        "entry = Entry(root)\n",
        "entry.pack()"
      ],
      "metadata": {
        "id": "vVHrM-QXP_Jd"
      },
      "execution_count": null,
      "outputs": []
    },
    {
      "cell_type": "code",
      "source": [
        "!apt-get install -y xvfb\n",
        "!pip install pyvirtualdisplay"
      ],
      "metadata": {
        "colab": {
          "base_uri": "https://localhost:8080/"
        },
        "id": "1ihLLDKeQCUE",
        "outputId": "24b38fc1-f8e7-4e7d-a3b8-491d290c4572"
      },
      "execution_count": null,
      "outputs": [
        {
          "output_type": "stream",
          "name": "stdout",
          "text": [
            "Reading package lists... Done\n",
            "Building dependency tree... Done\n",
            "Reading state information... Done\n",
            "xvfb is already the newest version (2:21.1.4-2ubuntu1.7~22.04.10).\n",
            "0 upgraded, 0 newly installed, 0 to remove and 45 not upgraded.\n",
            "Requirement already satisfied: pyvirtualdisplay in /usr/local/lib/python3.10/dist-packages (3.0)\n"
          ]
        }
      ]
    },
    {
      "cell_type": "code",
      "source": [
        "# prompt:\n",
        "\n",
        "!gsutil cp /content/drive/My\\ Drive/foo.txt gs://my-bucket\n"
      ],
      "metadata": {
        "colab": {
          "base_uri": "https://localhost:8080/"
        },
        "id": "H2Gbwhi9T0G1",
        "outputId": "4d3bf48a-e8ae-4975-f6da-1e00db9b06f1"
      },
      "execution_count": null,
      "outputs": [
        {
          "output_type": "stream",
          "name": "stdout",
          "text": [
            "CommandException: No URLs matched: /content/drive/My Drive/foo.txt\n"
          ]
        }
      ]
    },
    {
      "cell_type": "code",
      "source": [
        "# prompt:\n",
        "\n",
        "!gsutil cp gs://my-bucket/foo.txt /content/drive/My\\ Drive\n"
      ],
      "metadata": {
        "colab": {
          "base_uri": "https://localhost:8080/"
        },
        "id": "SYnuX3LPT5AW",
        "outputId": "4061ea9e-d265-4e12-afba-3892c240e56e"
      },
      "execution_count": null,
      "outputs": [
        {
          "output_type": "stream",
          "name": "stdout",
          "text": [
            "ServiceException: 401 Anonymous caller does not have storage.objects.get access to the Google Cloud Storage object. Permission 'storage.objects.get' denied on resource (or it may not exist).\n"
          ]
        }
      ]
    },
    {
      "cell_type": "code",
      "source": [
        "# prompt:\n",
        "\n",
        "!gsutil cp gs://my-bucket/foo.txt /content/drive/My\\ Drive\n"
      ],
      "metadata": {
        "colab": {
          "base_uri": "https://localhost:8080/"
        },
        "id": "KEnZU-IFUAwz",
        "outputId": "68d1d802-47f5-41b8-95b4-aa4df3df0fbe"
      },
      "execution_count": null,
      "outputs": [
        {
          "output_type": "stream",
          "name": "stdout",
          "text": [
            "ServiceException: 401 Anonymous caller does not have storage.objects.get access to the Google Cloud Storage object. Permission 'storage.objects.get' denied on resource (or it may not exist).\n"
          ]
        }
      ]
    },
    {
      "cell_type": "code",
      "source": [
        "# prompt: importa o módulo pyvirtualdisplay e, em seguida, cria a tela virtual com resolução de 1024x768 e a torna invisível (visible=0).\n",
        "\n",
        "!apt-get install -y xvfb\n",
        "!pip install pyvirtualdisplay\n",
        "\n",
        "import pyvirtualdisplay\n",
        "\n",
        "display = pyvirtualdisplay.Display(visible=0, size=(1024, 768))\n",
        "display.start()\n"
      ],
      "metadata": {
        "colab": {
          "base_uri": "https://localhost:8080/"
        },
        "id": "4rH6hcPHUKqF",
        "outputId": "9930eab2-09bd-453d-cb8a-ea8ac8c52091"
      },
      "execution_count": null,
      "outputs": [
        {
          "output_type": "stream",
          "name": "stdout",
          "text": [
            "Reading package lists... Done\n",
            "Building dependency tree... Done\n",
            "Reading state information... Done\n",
            "xvfb is already the newest version (2:21.1.4-2ubuntu1.7~22.04.10).\n",
            "0 upgraded, 0 newly installed, 0 to remove and 45 not upgraded.\n",
            "Requirement already satisfied: pyvirtualdisplay in /usr/local/lib/python3.10/dist-packages (3.0)\n"
          ]
        },
        {
          "output_type": "execute_result",
          "data": {
            "text/plain": [
              "<pyvirtualdisplay.display.Display at 0x7fef75cca590>"
            ]
          },
          "metadata": {},
          "execution_count": 94
        }
      ]
    },
    {
      "cell_type": "code",
      "source": [
        "# Your Tkinter code here"
      ],
      "metadata": {
        "id": "6pZgaObWUjMf"
      },
      "execution_count": null,
      "outputs": []
    },
    {
      "cell_type": "code",
      "source": [
        "display.stop()"
      ],
      "metadata": {
        "colab": {
          "base_uri": "https://localhost:8080/"
        },
        "id": "HiEKnlg5UmiF",
        "outputId": "bbac0405-7581-42b6-8bcc-99ddab193c2c"
      },
      "execution_count": null,
      "outputs": [
        {
          "output_type": "execute_result",
          "data": {
            "text/plain": [
              "<pyvirtualdisplay.display.Display at 0x7fef75cca590>"
            ]
          },
          "metadata": {},
          "execution_count": 96
        }
      ]
    },
    {
      "cell_type": "code",
      "source": [
        "import tkinter as tk\n",
        "import pyvirtualdisplay\n",
        "from pyvirtualdisplay import Display"
      ],
      "metadata": {
        "id": "XpfhwII0U-LE"
      },
      "execution_count": null,
      "outputs": []
    },
    {
      "cell_type": "code",
      "source": [
        "display = Display(visible=0, size=(1024, 768))\n",
        "display.start()"
      ],
      "metadata": {
        "colab": {
          "base_uri": "https://localhost:8080/"
        },
        "id": "IHus9ShXVk3f",
        "outputId": "820cf637-5090-4caf-b21a-3a104d054699"
      },
      "execution_count": null,
      "outputs": [
        {
          "output_type": "execute_result",
          "data": {
            "text/plain": [
              "<pyvirtualdisplay.display.Display at 0x7fef75ccb640>"
            ]
          },
          "metadata": {},
          "execution_count": 98
        }
      ]
    },
    {
      "cell_type": "code",
      "source": [
        "root = tk.Tk()\n",
        "root.title(\"Gerador de Prompts para Concursos Públicos\")"
      ],
      "metadata": {
        "colab": {
          "base_uri": "https://localhost:8080/",
          "height": 35
        },
        "id": "rDGKj4XOVnvr",
        "outputId": "1c587177-f369-4e92-a497-fcdb8bea45da"
      },
      "execution_count": null,
      "outputs": [
        {
          "output_type": "execute_result",
          "data": {
            "text/plain": [
              "''"
            ],
            "application/vnd.google.colaboratory.intrinsic+json": {
              "type": "string"
            }
          },
          "metadata": {},
          "execution_count": 99
        }
      ]
    },
    {
      "cell_type": "code",
      "source": [
        "label = tk.Label(root, text=\"Digite um assunto:\")\n",
        "label.pack()"
      ],
      "metadata": {
        "id": "kSNCb4xKVsDo"
      },
      "execution_count": null,
      "outputs": []
    },
    {
      "cell_type": "code",
      "source": [
        "entry = tk.Entry(root)\n",
        "entry.pack()"
      ],
      "metadata": {
        "id": "7g1uI90dVvaa"
      },
      "execution_count": null,
      "outputs": []
    },
    {
      "cell_type": "code",
      "source": [
        "button = tk.Button(root, text=\"Gerar Prompt\")\n",
        "button.pack()"
      ],
      "metadata": {
        "id": "30q_PvKEVyJy"
      },
      "execution_count": null,
      "outputs": []
    },
    {
      "cell_type": "code",
      "source": [
        "def gerar_prompt():\n",
        "    assunto = entry.get()\n",
        "    prompt = f\"Escreva um texto sobre o seguinte assunto: {assunto}\"\n",
        "    print(f\"Prompt gerado: {prompt}\")"
      ],
      "metadata": {
        "id": "hZGnagVhV00Q"
      },
      "execution_count": null,
      "outputs": []
    },
    {
      "cell_type": "code",
      "source": [
        "button.config(command=gerar_prompt)"
      ],
      "metadata": {
        "id": "LRumY3OPV3xv"
      },
      "execution_count": null,
      "outputs": []
    },
    {
      "cell_type": "code",
      "source": [
        "# prompt:  Início do loop principal:\n",
        "# Esta parte inicia o loop principal da GUI, que fica em execução até que a janela principal seja fechada. O erro ocorre porque a variável Display não foi definida antes de ser usada. Para corrigir o erro, você precisa importar o módulo pyvirtualdisplay antes de criar a tela virtual.\n",
        "\n",
        "!apt-get install -y xvfb\n",
        "!pip install pyvirtualdisplay\n",
        "from pyvirtualdisplay import Display\n",
        "display = Display(visible=0, size=(1024, 768))\n",
        "display.start()\n",
        "\n",
        "# Your Tkinter code here\n",
        "\n",
        "display.stop()\n"
      ],
      "metadata": {
        "colab": {
          "base_uri": "https://localhost:8080/"
        },
        "id": "ZqGfQG70V6jT",
        "outputId": "7d670923-9d2a-41da-ee2d-b01d2ed71a8b"
      },
      "execution_count": null,
      "outputs": [
        {
          "output_type": "stream",
          "name": "stdout",
          "text": [
            "Reading package lists... Done\n",
            "Building dependency tree... Done\n",
            "Reading state information... Done\n",
            "xvfb is already the newest version (2:21.1.4-2ubuntu1.7~22.04.10).\n",
            "0 upgraded, 0 newly installed, 0 to remove and 45 not upgraded.\n",
            "Requirement already satisfied: pyvirtualdisplay in /usr/local/lib/python3.10/dist-packages (3.0)\n"
          ]
        },
        {
          "output_type": "execute_result",
          "data": {
            "text/plain": [
              "<pyvirtualdisplay.display.Display at 0x7fef75cca710>"
            ]
          },
          "metadata": {},
          "execution_count": 105
        }
      ]
    },
    {
      "cell_type": "code",
      "source": [
        "import tkinter as tk\n",
        "import pyvirtualdisplay\n",
        "from pyvirtualdisplay import Display"
      ],
      "metadata": {
        "id": "RXLKjNOoY68B"
      },
      "execution_count": null,
      "outputs": []
    },
    {
      "cell_type": "code",
      "source": [
        "display = Display(visible=0, size=(1024, 768))\n",
        "display.start()"
      ],
      "metadata": {
        "colab": {
          "base_uri": "https://localhost:8080/"
        },
        "id": "4qktE4IDY65a",
        "outputId": "1d97ae7e-4d9f-48e8-bb07-c535fb6256cd"
      },
      "execution_count": null,
      "outputs": [
        {
          "output_type": "execute_result",
          "data": {
            "text/plain": [
              "<pyvirtualdisplay.display.Display at 0x7fef75cf99f0>"
            ]
          },
          "metadata": {},
          "execution_count": 107
        }
      ]
    },
    {
      "cell_type": "code",
      "source": [
        "root = tk.Tk()\n",
        "root.title(\"Gerador de Prompts para Concursos Públicos\")"
      ],
      "metadata": {
        "colab": {
          "base_uri": "https://localhost:8080/",
          "height": 35
        },
        "id": "wGgIEg2_ZW5V",
        "outputId": "a2f1f27c-e9de-4d8c-e312-f72f35655893"
      },
      "execution_count": null,
      "outputs": [
        {
          "output_type": "execute_result",
          "data": {
            "text/plain": [
              "''"
            ],
            "application/vnd.google.colaboratory.intrinsic+json": {
              "type": "string"
            }
          },
          "metadata": {},
          "execution_count": 108
        }
      ]
    },
    {
      "cell_type": "code",
      "source": [
        "label = tk.Label(root, text=\"Selecione um assunto:\")\n",
        "label.pack()"
      ],
      "metadata": {
        "id": "EVZ3f2BeZaGE"
      },
      "execution_count": null,
      "outputs": []
    },
    {
      "cell_type": "code",
      "source": [
        "options = [\"Administração Pública\", \"Gestão de Pessoas\", \"Finanças Públicas\", \"Direito Administrativo\"]\n",
        "variable = tk.StringVar(root)\n",
        "variable.set(options[0])  # Definir a opção padrão\n",
        "dropdown = tk.OptionMenu(root, variable, *options)\n",
        "dropdown.pack()"
      ],
      "metadata": {
        "id": "o-xrdQbBZeHF"
      },
      "execution_count": null,
      "outputs": []
    },
    {
      "cell_type": "code",
      "source": [
        "button = tk.Button(root, text=\"Gerar Prompt\")\n",
        "button.pack()"
      ],
      "metadata": {
        "id": "dBm8MlgfZhm8"
      },
      "execution_count": null,
      "outputs": []
    },
    {
      "cell_type": "code",
      "source": [
        "def gerar_prompt():\n",
        "    assunto = variable.get()\n",
        "    prompt = f\"Escreva um texto sobre o seguinte assunto: {assunto}\"\n",
        "    print(f\"Prompt gerado: {prompt}\")"
      ],
      "metadata": {
        "id": "nl5mZLv3Zk6s"
      },
      "execution_count": null,
      "outputs": []
    },
    {
      "cell_type": "code",
      "source": [
        "button.config(command=gerar_prompt)"
      ],
      "metadata": {
        "id": "zvqmgYl6ZoBU"
      },
      "execution_count": null,
      "outputs": []
    },
    {
      "cell_type": "code",
      "source": [
        "%env DISPLAY=:0"
      ],
      "metadata": {
        "colab": {
          "base_uri": "https://localhost:8080/"
        },
        "id": "mr0hebLC0TpO",
        "outputId": "bf4b8621-9ee4-4c1b-bbf5-3db66ca46296"
      },
      "execution_count": null,
      "outputs": [
        {
          "output_type": "stream",
          "name": "stdout",
          "text": [
            "env: DISPLAY=:0\n"
          ]
        }
      ]
    },
    {
      "cell_type": "code",
      "source": [
        "# prompt: Observação: Este código assume que você deseja usar o backend \"Agg\" do matplotlib para gerar imagens da GUI, mas não exibir uma janela interativa. Se você precisar de uma janela interativa, siga as outras sugestões de solução de problemas mencionadas anteriormente.\n",
        "\n",
        "%matplotlib agg\n"
      ],
      "metadata": {
        "id": "INu_oY8vZryU"
      },
      "execution_count": null,
      "outputs": []
    },
    {
      "cell_type": "code",
      "source": [
        "# prompt: O código agora verifica se o servidor está em execução e acessível antes de tentar se conectar.\n",
        "# Se o servidor não estiver em execução ou acessível, o código imprime uma mensagem de erro e sai.\n",
        "# A função send_message foi atualizada para tratar exceções ConnectionError que podem ocorrer se o servidor não estiver em execução ou acessível.\n",
        "# Se uma exceção ConnectionError ocorrer, o código imprime uma me\n",
        "\n",
        "import os\n",
        "\n",
        "def check_server_status():\n",
        "    \"\"\"Checks if the server is running and accessible.\"\"\"\n",
        "    try:\n",
        "        # Attempt to connect to the server\n",
        "        os.system(\"curl localhost:8080\")\n",
        "        return True\n",
        "    except:\n",
        "        return False\n",
        "\n",
        "def send_message(message):\n",
        "    \"\"\"Sends a message to the server.\n",
        "\n",
        "    Args:\n",
        "        message: The message to send.\n",
        "\n",
        "    Raises:\n",
        "        ConnectionError: If the server is not running or accessible.\n",
        "    \"\"\"\n",
        "    if not check_server_status():\n",
        "        raise ConnectionError(\"Server is not running or accessible.\")\n",
        "\n",
        "    # Send the message to the server\n",
        "    os.system(f\"curl -X POST localhost:8080 -d '{message}'\")\n",
        "\n",
        "# Check if the server is running and accessible\n",
        "if not check_server_status():\n",
        "    print(\"Error: Server is not running or accessible.\")\n",
        "    exit(1)\n",
        "\n",
        "# Send a message to the server\n",
        "send_message(\"Hello, world!\")\n"
      ],
      "metadata": {
        "id": "CTsLWkVNEQeD"
      },
      "execution_count": null,
      "outputs": []
    },
    {
      "cell_type": "code",
      "source": [
        "import os\n",
        "\n",
        "def check_server_status():\n",
        "    \"\"\"Checks if the server is running and accessible.\"\"\"\n",
        "    try:\n",
        "        # Attempt to connect to the server\n",
        "        os.system(\"curl localhost:8080\")\n",
        "        return True\n",
        "    except:\n",
        "        return False\n",
        "\n",
        "def send_message(message):\n",
        "    \"\"\"Sends a message to the server.\n",
        "\n",
        "    Args:\n",
        "        message: The message to send.\n",
        "\n",
        "    Raises:\n",
        "        ConnectionError: If the server is not running or accessible.\n",
        "    \"\"\"\n",
        "    if not check_server_status():\n",
        "        raise ConnectionError(\"Server is not running or accessible.\")\n",
        "\n",
        "    # Send the message to the server\n",
        "    os.system(f\"curl -X POST localhost:8080 -d '{message}'\")\n",
        "\n",
        "# Check if the server is running and accessible\n",
        "if not check_server_status():\n",
        "    print(\"Error: Server is not running or accessible.\")\n",
        "    exit(1)\n",
        "\n",
        "# Send a message to the server\n",
        "send_message(\"Hello, world!\")"
      ],
      "metadata": {
        "id": "itrNDKfE1ep9"
      },
      "execution_count": null,
      "outputs": []
    },
    {
      "cell_type": "code",
      "source": [
        "import tkinter as tk"
      ],
      "metadata": {
        "id": "f8WZjznNayUv"
      },
      "execution_count": null,
      "outputs": []
    },
    {
      "cell_type": "code",
      "source": [
        "import tkinter as tk"
      ],
      "metadata": {
        "id": "xB74u2Cfa2T1"
      },
      "execution_count": null,
      "outputs": []
    },
    {
      "cell_type": "code",
      "source": [
        "# prompt:\n",
        "\n",
        "import pandas as pd\n",
        "\n",
        "def generate_csv_report(json_filename, csv_filename):\n",
        "  # Read the JSON data\n",
        "  with open(json_filename, \"r\") as f:\n",
        "    json_data = json.load(f)\n",
        "\n",
        "  # Create a CSV file\n",
        "  with open(csv_filename, \"w\", newline=\"\") as f:\n",
        "    writer = csv.writer(f)\n",
        "\n",
        "    # Write the header row\n",
        "    writer.writerow([\"JSON File\", \"YAML File\", \"Number of Records\", \"Status\"])\n",
        "\n",
        "    # Write the data rows\n",
        "    writer.writerow([\n",
        "      json_filename,\n",
        "      yaml_filename,\n",
        "      len(json_data),\n",
        "      \"success\"\n",
        "    ])\n"
      ],
      "metadata": {
        "id": "v2cVjue8b0Mn"
      },
      "execution_count": null,
      "outputs": []
    },
    {
      "cell_type": "code",
      "source": [
        "# prompt:\n",
        "\n",
        "!git clone https://github.com/google/conga\n",
        "%cd conga\n",
        "!./conga-build.sh\n",
        "!./conga-install.sh\n"
      ],
      "metadata": {
        "id": "w23zZKJ3cEMb",
        "colab": {
          "base_uri": "https://localhost:8080/"
        },
        "outputId": "2f5d39cc-2f09-48c7-cbd5-42257bea2878"
      },
      "execution_count": null,
      "outputs": [
        {
          "output_type": "stream",
          "name": "stdout",
          "text": [
            "Cloning into 'conga'...\n",
            "fatal: could not read Username for 'https://github.com': No such device or address\n",
            "[Errno 2] No such file or directory: 'conga'\n",
            "/content\n",
            "/bin/bash: line 1: ./conga-build.sh: No such file or directory\n",
            "/bin/bash: line 1: ./conga-install.sh: No such file or directory\n"
          ]
        }
      ]
    },
    {
      "cell_type": "code",
      "source": [
        "# prompt:\n",
        "\n",
        "def generate_pdf_report(json_filename, yaml_filename):\n",
        "  # Read the JSON data\n",
        "  with open(json_filename, \"r\") as f:\n",
        "    json_data = json.load(f)\n",
        "\n",
        "  # Create a PDF canvas\n",
        "  pdf = canvas.Canvas(\"report.pdf\", pagesize=A4)\n",
        "\n",
        "  # Add the report title\n",
        "  pdf.drawString(100, 750, \"JSON to YAML Conversion Report\")\n",
        "\n",
        "  # Add the JSON file name\n",
        "  pdf.drawString(100, 730, f\"JSON File: {json_filename}\")\n",
        "\n",
        "  # Add the YAML file name\n",
        "  pdf.drawString(100, 710, f\"YAML File: {yaml_filename}\")\n",
        "\n",
        "  # Add the number of records\n",
        "  pdf.drawString(100, 690, f\"Number of Records: {len(json_data)}\")\n",
        "\n",
        "  # Add the status\n",
        "  pdf.drawString(100, 670, f\"Status: success\")\n",
        "\n",
        "  # Save the PDF report\n",
        "  pdf.save()\n",
        "\n"
      ],
      "metadata": {
        "id": "Vv6XS51xcIc1"
      },
      "execution_count": null,
      "outputs": []
    },
    {
      "cell_type": "code",
      "source": [
        "# prompt: lterações feitas:\n",
        "# O código agora decodifica a resposta do servidor como UTF-8 por padrão.\n",
        "# Certifique-se de que o servidor do chatbot esteja retornando respostas válidas.\n",
        "\n",
        "def send_message(message):\n",
        "    \"\"\"Sends a message to the server.\n",
        "\n",
        "    Args:\n",
        "        message: The message to send.\n",
        "\n",
        "    Returns:\n",
        "        The response from the server, decoded as UTF-8.\n",
        "\n",
        "    Raises:\n",
        "        ConnectionError: If the server is not running or accessible.\n",
        "    \"\"\"\n",
        "    if not check_server_status():\n",
        "        raise ConnectionError(\"Server is not running or accessible.\")\n",
        "\n",
        "    # Send the message to the server\n",
        "    response = os.system(f\"curl -X POST localhost:8080 -d '{message}'\")\n",
        "\n",
        "    # Decode the response as UTF-8\n",
        "    return response.decode(\"utf-8\")\n"
      ],
      "metadata": {
        "id": "0h8S2NUTcT-C"
      },
      "execution_count": null,
      "outputs": []
    },
    {
      "cell_type": "code",
      "source": [
        "import os\n",
        "import json\n",
        "import yaml\n",
        "\n",
        "# Define the function to convert a JSON file to a YAML file\n",
        "def json_to_yaml(json_filename, yaml_filename):\n",
        "    # Check if the JSON file exists\n",
        "    if os.path.isfile(json_filename):\n",
        "        # Read the JSON data\n",
        "        with open(json_filename, \"r\") as f:\n",
        "            json_data = json.load(f)\n",
        "\n",
        "        # Write the YAML file\n",
        "        with open(yaml_filename, \"w\") as f:\n",
        "            yaml.dump(json_data, f)\n",
        "    else:\n",
        "        print(f\"Error: File '{json_filename}' does not exist.\")\n",
        "\n",
        "# Define the function to convert a YAML file to a JSON file\n",
        "def yaml_to_json(yaml_filename, json_filename):\n",
        "    # Check if the YAML file exists\n",
        "    if os.path.isfile(yaml_filename):\n",
        "        # Read the YAML data\n",
        "        with open(yaml_filename, \"r\") as f:\n",
        "            yaml_data = yaml.safe_load(f)\n",
        "\n",
        "        # Write the JSON file\n",
        "        with open(json_filename, \"w\") as f:\n",
        "            json.dump(yaml_data, f)\n",
        "    else:\n",
        "        print(f\"Error: File '{yaml_filename}' does not exist.\")\n",
        "\n",
        "# Example usage\n",
        "json_filename = \"data.json\"\n",
        "yaml_filename = \"data.yaml\"\n",
        "json_to_yaml(json_filename, yaml_filename)\n",
        "yaml_to_json(yaml_filename, json_filename)"
      ],
      "metadata": {
        "colab": {
          "base_uri": "https://localhost:8080/"
        },
        "id": "51c2blx3PucA",
        "outputId": "abec26aa-524f-4af2-9e49-97da29aee209"
      },
      "execution_count": null,
      "outputs": [
        {
          "output_type": "stream",
          "name": "stdout",
          "text": [
            "Error: File 'data.json' does not exist.\n",
            "Error: File 'data.yaml' does not exist.\n"
          ]
        }
      ]
    },
    {
      "cell_type": "code",
      "source": [
        "import subprocess\n",
        "import os\n",
        "\n",
        "def check_server_status():\n",
        "    \"\"\"Checks if the server is running and accessible.\"\"\"\n",
        "    try:\n",
        "        # Attempt to connect to the server\n",
        "        subprocess.Popen(\"curl localhost:8080\", shell=True, stdout=subprocess.DEVNULL)\n",
        "        return True\n",
        "    except:\n",
        "        return False\n",
        "\n",
        "def send_message(message):\n",
        "    \"\"\"Sends a message to the server.\n",
        "\n",
        "    Args:\n",
        "        message: The message to send.\n",
        "\n",
        "    Returns:\n",
        "        The response from the server, decoded as UTF-8.\n",
        "    \"\"\"\n",
        "    if not check_server_status():\n",
        "        raise ConnectionError(\"Server is not running or accessible.\")\n",
        "\n",
        "    # Send the message to the server\n",
        "    response = subprocess.Popen(f\"curl -X POST localhost:8080 -d '{message}'\", shell=True, stdout=subprocess.PIPE).stdout.read()\n",
        "\n",
        "    # Decode the response as UTF-8\n",
        "    return response.decode(\"utf-8\")\n",
        "\n",
        "# Check if the server is running and accessible\n",
        "if not check_server_status():\n",
        "    print(\"Error: Server is not running or accessible.\")\n",
        "    exit(1)\n",
        "\n",
        "# Iniciar o loop de interação\n",
        "while True:\n",
        "    # Obter a entrada do usuário\n",
        "    prompt = input(\"Digite um prompt (ou 'fim' para sair): \")\n",
        "\n",
        "    # Verificar se o usuário digitou \"fim\"\n",
        "    if prompt == \"fim\":\n",
        "        break\n",
        "\n",
        "    # Enviar a mensagem para o servidor\n",
        "    response = send_message(prompt)\n",
        "\n",
        "    # Imprimir a resposta\n",
        "    print(response)"
      ],
      "metadata": {
        "colab": {
          "base_uri": "https://localhost:8080/"
        },
        "id": "tVPHsqd-UWZk",
        "outputId": "dbc07eb1-c9e7-4c4c-e27b-89b3a696134b"
      },
      "execution_count": null,
      "outputs": [
        {
          "name": "stdout",
          "output_type": "stream",
          "text": [
            "Digite um prompt (ou 'fim' para sair): Olá\n",
            "\n",
            "Digite um prompt (ou 'fim' para sair): fim\n"
          ]
        }
      ]
    },
    {
      "cell_type": "code",
      "source": [
        "# prompt:\n",
        "\n",
        "!git clone https://github.com/google/conga\n",
        "%cd conga\n",
        "!./conga-build.sh\n",
        "!./conga-install.sh\n"
      ],
      "metadata": {
        "id": "fbpa6Ij4Nj86",
        "colab": {
          "base_uri": "https://localhost:8080/"
        },
        "outputId": "35324076-34af-41a0-c172-3c11b8e333bf"
      },
      "execution_count": null,
      "outputs": [
        {
          "output_type": "stream",
          "name": "stdout",
          "text": [
            "Cloning into 'conga'...\n",
            "fatal: could not read Username for 'https://github.com': No such device or address\n",
            "[Errno 2] No such file or directory: 'conga'\n",
            "/content\n",
            "/bin/bash: line 1: ./conga-build.sh: No such file or directory\n",
            "/bin/bash: line 1: ./conga-install.sh: No such file or directory\n"
          ]
        }
      ]
    },
    {
      "cell_type": "code",
      "source": [
        "import subprocess\n",
        "import os\n",
        "\n",
        "def check_server_status():\n",
        "    \"\"\"Checks if the server is running and accessible.\"\"\"\n",
        "    try:\n",
        "        # Attempt to connect to the server\n",
        "        subprocess.Popen(\"curl localhost:8080\", shell=True, stdout=subprocess.DEVNULL)\n",
        "        return True\n",
        "    except:\n",
        "        return False\n",
        "\n",
        "def send_message(message):\n",
        "    \"\"\"Sends a message to the server.\n",
        "\n",
        "    Args:\n",
        "        message: The message to send.\n",
        "\n",
        "    Returns:\n",
        "        The response from the server, decoded as UTF-8.\n",
        "    \"\"\"\n",
        "    if not check_server_status():\n",
        "        raise ConnectionError(\"Server is not running or accessible.\")\n",
        "\n",
        "    # Send the message to the server\n",
        "    response = subprocess.Popen(f\"curl -X POST localhost:8080 -d '{message}'\", shell=True, stdout=subprocess.PIPE).stdout.read()\n",
        "\n",
        "    # Decode the response as UTF-8\n",
        "    return response.decode(\"utf-8\")\n",
        "\n",
        "# Check if the server is running and accessible\n",
        "if not check_server_status():\n",
        "    print(\"Error: Server is not running or accessible.\")\n",
        "    exit(1)\n",
        "\n",
        "# Iniciar o loop de interação\n",
        "while True:\n",
        "    # Obter a entrada do usuário\n",
        "    prompt = input(\"Digite um prompt (ou 'fim' para sair): \")\n",
        "\n",
        "    # Verificar se o usuário digitou \"fim\"\n",
        "    if prompt == \"fim\":\n",
        "        break\n",
        "\n",
        "    # Enviar a mensagem para o servidor\n",
        "    response = send_message(prompt)\n",
        "\n",
        "    # Imprimir a resposta\n",
        "    print(\"Resposta do chatbot:\", response)"
      ],
      "metadata": {
        "id": "E3IMQCbCNgNX",
        "colab": {
          "base_uri": "https://localhost:8080/"
        },
        "outputId": "a30d70b2-9e7a-4383-9738-3a684edba620"
      },
      "execution_count": null,
      "outputs": [
        {
          "name": "stdout",
          "output_type": "stream",
          "text": [
            "Digite um prompt (ou 'fim' para sair): fim\n"
          ]
        }
      ]
    },
    {
      "cell_type": "code",
      "source": [
        "import tkinter as tk\n",
        "import pyvirtualdisplay\n",
        "from pyvirtualdisplay import Display"
      ],
      "metadata": {
        "id": "yKpcsWexdKJ1"
      },
      "execution_count": null,
      "outputs": []
    },
    {
      "cell_type": "code",
      "source": [
        "# prompt: Criação da tela virtual: Esta parte cria uma tela virtual com resolução de 1024x768 e a torna invisível (visible=0)\n",
        "\n",
        "display = Display(visible=0, size=(1024, 768))\n",
        "display.start()\n"
      ],
      "metadata": {
        "id": "ATM3QsVvdOl4",
        "colab": {
          "base_uri": "https://localhost:8080/"
        },
        "outputId": "edef33a1-0a09-45a3-bf28-6296f072dcdc"
      },
      "execution_count": null,
      "outputs": [
        {
          "output_type": "execute_result",
          "data": {
            "text/plain": [
              "<pyvirtualdisplay.display.Display at 0x7fef75d09030>"
            ]
          },
          "metadata": {},
          "execution_count": 129
        }
      ]
    },
    {
      "cell_type": "code",
      "source": [
        "root = tk.Tk()\n",
        "root.title(\"Gerador de Prompts para Concursos Públicos\")\n",
        "root.geometry(\"400x300\")\n",
        "root.configure(background='lightblue')"
      ],
      "metadata": {
        "id": "tTPpUTGxdrFy"
      },
      "execution_count": null,
      "outputs": []
    },
    {
      "cell_type": "code",
      "source": [
        "label = tk.Label(root, text=\"Selecione um assunto:\", bg=\"lightblue\", font=(\"Arial\", 12))\n",
        "label.pack()"
      ],
      "metadata": {
        "id": "vHwhFwysdumJ"
      },
      "execution_count": null,
      "outputs": []
    },
    {
      "cell_type": "code",
      "source": [
        "options = [\"Administração Pública\", \"Gestão de Pessoas\", \"Finanças Públicas\", \"Direito Administrativo\"]\n",
        "variable = tk.StringVar(root)\n",
        "variable.set(options[0])  # Definir a opção padrão\n",
        "dropdown = tk.OptionMenu(root, variable, *options)\n",
        "dropdown.pack()"
      ],
      "metadata": {
        "id": "1Ci5LkXVdydr"
      },
      "execution_count": null,
      "outputs": []
    },
    {
      "cell_type": "code",
      "source": [
        "button = tk.Button(root, text=\"Gerar Prompt\", bg=\"green\", fg=\"white\", font=(\"Arial\", 12))\n",
        "button.pack()"
      ],
      "metadata": {
        "id": "w_RxEnITd1mS"
      },
      "execution_count": null,
      "outputs": []
    },
    {
      "cell_type": "code",
      "source": [
        "def gerar_prompt():\n",
        "    assunto = variable.get()\n",
        "    prompt = f\"Escreva um texto sobre o seguinte assunto: {assunto}\"\n",
        "    print(f\"Prompt gerado: {prompt}\")"
      ],
      "metadata": {
        "id": "gCp4XW4ud5Cd"
      },
      "execution_count": null,
      "outputs": []
    },
    {
      "cell_type": "code",
      "source": [
        "button.config(command=gerar_prompt)"
      ],
      "metadata": {
        "id": "kNY4go9Zd7bL"
      },
      "execution_count": null,
      "outputs": []
    },
    {
      "cell_type": "code",
      "source": [
        "# prompt: Este código cria uma tela virtual usando o módulo xvfb e, em seguida, cria a janela Tkinter e inicia o loop principal. Depois que o loop principal é concluído, a tela virtual é parada.\n",
        "# Observação: Você pode precisar instalar o módulo xvfb usando pip install xvfb antes de executar o código.\n",
        "\n",
        "!apt-get install -y xvfb\n",
        "!pip install pyvirtualdisplay\n",
        "\n",
        "display = pyvirtualdisplay.Display(visible=0, size=(1024, 768))\n",
        "display.start()\n",
        "\n",
        "# Your Tkinter code here\n",
        "\n",
        "display.stop()\n"
      ],
      "metadata": {
        "id": "f3Qi_DFVd9pj",
        "colab": {
          "base_uri": "https://localhost:8080/"
        },
        "outputId": "41473b68-9e3e-45f6-be74-526253067b68"
      },
      "execution_count": null,
      "outputs": [
        {
          "output_type": "stream",
          "name": "stdout",
          "text": [
            "Reading package lists... Done\n",
            "Building dependency tree... Done\n",
            "Reading state information... Done\n",
            "xvfb is already the newest version (2:21.1.4-2ubuntu1.7~22.04.10).\n",
            "0 upgraded, 0 newly installed, 0 to remove and 45 not upgraded.\n",
            "Requirement already satisfied: pyvirtualdisplay in /usr/local/lib/python3.10/dist-packages (3.0)\n"
          ]
        },
        {
          "output_type": "execute_result",
          "data": {
            "text/plain": [
              "<pyvirtualdisplay.display.Display at 0x7fef75d09b70>"
            ]
          },
          "metadata": {},
          "execution_count": 136
        }
      ]
    },
    {
      "cell_type": "code",
      "source": [
        "# prompt:\n",
        "\n",
        "!gsutil cp gs://bucket-name/to_upload.txt /tmp/to_upload.txt\n"
      ],
      "metadata": {
        "id": "OimDo0QwhMnH",
        "colab": {
          "base_uri": "https://localhost:8080/"
        },
        "outputId": "40ff4011-f088-4c70-ecbc-e82f08853928"
      },
      "execution_count": null,
      "outputs": [
        {
          "output_type": "stream",
          "name": "stdout",
          "text": [
            "ServiceException: 401 Anonymous caller does not have storage.objects.get access to the Google Cloud Storage object. Permission 'storage.objects.get' denied on resource (or it may not exist).\n"
          ]
        }
      ]
    },
    {
      "cell_type": "code",
      "source": [
        "%matplotlib inline"
      ],
      "metadata": {
        "id": "WH3S9n3vpo6L"
      },
      "execution_count": null,
      "outputs": []
    },
    {
      "cell_type": "code",
      "source": [
        "import tkinter as tk"
      ],
      "metadata": {
        "id": "XwhWJP2soMvh"
      },
      "execution_count": null,
      "outputs": []
    },
    {
      "cell_type": "code",
      "source": [
        "root = tk.Tk()"
      ],
      "metadata": {
        "id": "2pyEJofbqn42"
      },
      "execution_count": null,
      "outputs": []
    }
  ]
}